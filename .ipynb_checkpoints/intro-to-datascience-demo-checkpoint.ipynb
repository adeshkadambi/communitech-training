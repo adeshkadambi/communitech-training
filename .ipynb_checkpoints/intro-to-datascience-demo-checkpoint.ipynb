{
 "cells": [
  {
   "cell_type": "markdown",
   "metadata": {
    "slideshow": {
     "slide_type": "slide"
    }
   },
   "source": [
    "<center>\n",
    "    <img src=\"https://img.evbuc.com/https%3A%2F%2Fcdn.evbuc.com%2Fimages%2F53691183%2F257316737287%2F1%2Foriginal.jpg?w=800&auto=compress&rect=0%2C0%2C2160%2C1080&s=74711a2a8c51eb0f3bd59e5d482fdc07\" width=\"50%\">\n",
    "</center>\n",
    "\n",
    "----------\n",
    "\n",
    "<h1 align=\"center\"> Introduction to Data Science </h1>\n",
    "<br>\n",
    "<center align=\"left\"> <font size='4'>  Developed by: </font> <img src=\"https://s3.amazonaws.com/weclouddata/images/logos/wcd_logo.png\" width=\"20%\">\n",
    "</center>\n",
    "<br>\n",
    "<center align=\"left\"> <font size='4' color='#FF5713'> Accelerating your data science career! </font></center>\n",
    "<br>\n",
    "\n",
    "---------"
   ]
  },
  {
   "cell_type": "markdown",
   "metadata": {
    "slideshow": {
     "slide_type": "-"
    }
   },
   "source": [
    "# $\\Omega$ Pandas\n",
    "\n",
    "> `pandas` is a Python package providing fast, flexible, and expressive data structures designed to make working with “relational” or “labeled” data both easy and intuitive. It aims to be the fundamental high-level building block for doing practical, real world data analysis in Python. Additionally, it has the broader goal of becoming the most powerful and flexible open source data analysis / manipulation tool available in any language. It is already well on its way toward this goal.\n",
    "\n",
    "> `pandas` is well suited for many different kinds of data:\n",
    "\n",
    "> * Tabular data with heterogeneously-typed columns, as in an SQL table or Excel spreadsheet\n",
    "* Ordered and unordered (not necessarily fixed-frequency) time series data.\n",
    "* Arbitrary matrix data (homogeneously typed or heterogeneous) with row and column labels\n",
    "* Any other form of observational / statistical data sets. The data actually need not be labeled at all to be placed into a pandas data structure\n",
    "\n",
    "For more tutorials, visit: https://pandas.pydata.org/pandas-docs/stable/tutorials.html"
   ]
  },
  {
   "cell_type": "markdown",
   "metadata": {},
   "source": [
    "### Imports\n",
    "\n",
    "Here we import Pandas and Matplotlib for data visualization"
   ]
  },
  {
   "cell_type": "code",
   "execution_count": 1,
   "metadata": {},
   "outputs": [],
   "source": [
    "import pandas as pd\n",
    "import matplotlib.pyplot as plt\n",
    "%matplotlib inline"
   ]
  },
  {
   "cell_type": "markdown",
   "metadata": {},
   "source": [
    "### Read data\n",
    "\n",
    "The sinking of the RMS Titanic is one of the most infamous shipwrecks in history.  On April 15, 1912, during her maiden voyage, the Titanic sank after colliding with an iceberg, killing 1502 out of 2224 passengers and crew. This sensational tragedy shocked the international community and led to better safety regulations for ships.\n",
    "\n",
    "One of the reasons that the shipwreck led to such loss of life was that there were not enough lifeboats for the passengers and crew. Although there was some element of luck involved in surviving the sinking, some groups of people were more likely to survive than others, such as women, children, and the upper-class.\n",
    "\n",
    "We load the data in using Pandas and create a Dataframe called `titanic`."
   ]
  },
  {
   "cell_type": "markdown",
   "metadata": {},
   "source": [
    "### Help\n",
    "\n",
    "Jupyter provides a **magic** command to look at the documentation of a function by adding a question mark."
   ]
  },
  {
   "cell_type": "markdown",
   "metadata": {},
   "source": [
    "### Get first n rows"
   ]
  },
  {
   "cell_type": "markdown",
   "metadata": {},
   "source": [
    "### Dataframe dimensions\n",
    "\n",
    "Get the number of rows and columns. `(rows, columns)`"
   ]
  },
  {
   "cell_type": "markdown",
   "metadata": {},
   "source": [
    "### Index\n",
    "\n",
    "The index is set to [0, 1, 2...nrows] by default if you don't specify it."
   ]
  },
  {
   "cell_type": "markdown",
   "metadata": {},
   "source": [
    "### Columns"
   ]
  },
  {
   "cell_type": "markdown",
   "metadata": {},
   "source": [
    "### Dataframe information\n",
    "\n",
    "Show some general information about your dataframe like the column names, the type, the number of non-missing values as well as the memory usage. Pandas Dataframes are loaded entirely into memory."
   ]
  },
  {
   "cell_type": "markdown",
   "metadata": {},
   "source": [
    "### Summary statistics for numeric columns\n",
    "\n",
    "By default `describe` will include only numeric columns. By setting `include='all'` it also shows all types."
   ]
  },
  {
   "cell_type": "markdown",
   "metadata": {},
   "source": [
    "# $\\Omega$ Selecting Data"
   ]
  },
  {
   "cell_type": "markdown",
   "metadata": {},
   "source": [
    "### Select column"
   ]
  },
  {
   "cell_type": "markdown",
   "metadata": {},
   "source": [
    "### Select multiple columns"
   ]
  },
  {
   "cell_type": "markdown",
   "metadata": {},
   "source": [
    "### Select rows and columns by name\n",
    "\n",
    "Use `loc` to slice your data. The first parameter is the names of the indices (this can be a range) and the second is a column or a list of columns."
   ]
  },
  {
   "cell_type": "markdown",
   "metadata": {},
   "source": [
    "### Select rows and columns by range of indices\n",
    "\n",
    "The difference with `iloc` is instead of using the **names** of the indices or columns, it uses the **integer positions**. For example instead selecting the 'age' column, we can select the column in position 4."
   ]
  },
  {
   "cell_type": "markdown",
   "metadata": {},
   "source": [
    "### Select rows based on condition (filter)"
   ]
  },
  {
   "cell_type": "markdown",
   "metadata": {},
   "source": [
    "## $\\Delta$ Exercise 1 - Toronto Crime Dataset\n",
    "\n",
    "http://data.torontopolice.on.ca/datasets/mci-2014-to-2017\n",
    "\n",
    "**Questions:**\n",
    "1. Read the crime data `crime.csv` and set it to the variable `crime`\n",
    "2. Show the last 10 rows (hint: use `tail`)\n",
    "3. Show the summary statistics\n",
    "4. Select columns \"Lat\" and \"Long\" and rows 100 to 200"
   ]
  },
  {
   "cell_type": "code",
   "execution_count": 3,
   "metadata": {},
   "outputs": [
    {
     "data": {
      "text/html": [
       "<div>\n",
       "<style scoped>\n",
       "    .dataframe tbody tr th:only-of-type {\n",
       "        vertical-align: middle;\n",
       "    }\n",
       "\n",
       "    .dataframe tbody tr th {\n",
       "        vertical-align: top;\n",
       "    }\n",
       "\n",
       "    .dataframe thead th {\n",
       "        text-align: right;\n",
       "    }\n",
       "</style>\n",
       "<table border=\"1\" class=\"dataframe\">\n",
       "  <thead>\n",
       "    <tr style=\"text-align: right;\">\n",
       "      <th></th>\n",
       "      <th>occurrencedate</th>\n",
       "      <th>reporteddate</th>\n",
       "      <th>Lat</th>\n",
       "      <th>Long</th>\n",
       "      <th>Neighbourhood</th>\n",
       "      <th>premisetype</th>\n",
       "      <th>MCI</th>\n",
       "    </tr>\n",
       "  </thead>\n",
       "  <tbody>\n",
       "    <tr>\n",
       "      <th>131063</th>\n",
       "      <td>2014-09-13T04:00:00.000Z</td>\n",
       "      <td>2014-09-15T04:00:00.000Z</td>\n",
       "      <td>43.694473</td>\n",
       "      <td>-79.548469</td>\n",
       "      <td>Kingsview Village-The Westway (6)</td>\n",
       "      <td>Outside</td>\n",
       "      <td>Auto Theft</td>\n",
       "    </tr>\n",
       "    <tr>\n",
       "      <th>131064</th>\n",
       "      <td>2014-09-15T04:00:00.000Z</td>\n",
       "      <td>2014-09-16T04:00:00.000Z</td>\n",
       "      <td>43.695751</td>\n",
       "      <td>-79.510284</td>\n",
       "      <td>Weston (113)</td>\n",
       "      <td>Outside</td>\n",
       "      <td>Auto Theft</td>\n",
       "    </tr>\n",
       "    <tr>\n",
       "      <th>131065</th>\n",
       "      <td>2014-09-15T04:00:00.000Z</td>\n",
       "      <td>2014-09-16T04:00:00.000Z</td>\n",
       "      <td>43.748486</td>\n",
       "      <td>-79.550110</td>\n",
       "      <td>Humbermede (22)</td>\n",
       "      <td>Outside</td>\n",
       "      <td>Auto Theft</td>\n",
       "    </tr>\n",
       "    <tr>\n",
       "      <th>131066</th>\n",
       "      <td>2014-09-15T04:00:00.000Z</td>\n",
       "      <td>2014-09-16T04:00:00.000Z</td>\n",
       "      <td>43.709904</td>\n",
       "      <td>-79.515373</td>\n",
       "      <td>Pelmo Park-Humberlea (23)</td>\n",
       "      <td>House</td>\n",
       "      <td>Auto Theft</td>\n",
       "    </tr>\n",
       "    <tr>\n",
       "      <th>131067</th>\n",
       "      <td>2014-09-18T04:00:00.000Z</td>\n",
       "      <td>2014-09-18T04:00:00.000Z</td>\n",
       "      <td>43.688309</td>\n",
       "      <td>-79.493141</td>\n",
       "      <td>Mount Dennis (115)</td>\n",
       "      <td>Outside</td>\n",
       "      <td>Auto Theft</td>\n",
       "    </tr>\n",
       "    <tr>\n",
       "      <th>131068</th>\n",
       "      <td>2014-09-18T04:00:00.000Z</td>\n",
       "      <td>2014-09-18T04:00:00.000Z</td>\n",
       "      <td>43.743305</td>\n",
       "      <td>-79.406494</td>\n",
       "      <td>St.Andrew-Windfields (40)</td>\n",
       "      <td>Outside</td>\n",
       "      <td>Auto Theft</td>\n",
       "    </tr>\n",
       "    <tr>\n",
       "      <th>131069</th>\n",
       "      <td>2014-09-20T04:00:00.000Z</td>\n",
       "      <td>2014-09-21T04:00:00.000Z</td>\n",
       "      <td>43.693031</td>\n",
       "      <td>-79.564003</td>\n",
       "      <td>Kingsview Village-The Westway (6)</td>\n",
       "      <td>Commercial</td>\n",
       "      <td>Auto Theft</td>\n",
       "    </tr>\n",
       "    <tr>\n",
       "      <th>131070</th>\n",
       "      <td>2014-09-22T04:00:00.000Z</td>\n",
       "      <td>2014-09-22T04:00:00.000Z</td>\n",
       "      <td>43.788761</td>\n",
       "      <td>-79.162148</td>\n",
       "      <td>Highland Creek (134)</td>\n",
       "      <td>House</td>\n",
       "      <td>Auto Theft</td>\n",
       "    </tr>\n",
       "    <tr>\n",
       "      <th>131071</th>\n",
       "      <td>2014-09-21T04:00:00.000Z</td>\n",
       "      <td>2014-09-22T04:00:00.000Z</td>\n",
       "      <td>43.726807</td>\n",
       "      <td>-79.459641</td>\n",
       "      <td>Yorkdale-Glen Park (31)</td>\n",
       "      <td>Outside</td>\n",
       "      <td>Auto Theft</td>\n",
       "    </tr>\n",
       "    <tr>\n",
       "      <th>131072</th>\n",
       "      <td>2014-09-22T04:00:00.000Z</td>\n",
       "      <td>2014-09-22T04:00:00.000Z</td>\n",
       "      <td>43.652630</td>\n",
       "      <td>-79.366463</td>\n",
       "      <td>Moss Park (73)</td>\n",
       "      <td>Outside</td>\n",
       "      <td>Auto Theft</td>\n",
       "    </tr>\n",
       "  </tbody>\n",
       "</table>\n",
       "</div>"
      ],
      "text/plain": [
       "                  occurrencedate              reporteddate        Lat  \\\n",
       "131063  2014-09-13T04:00:00.000Z  2014-09-15T04:00:00.000Z  43.694473   \n",
       "131064  2014-09-15T04:00:00.000Z  2014-09-16T04:00:00.000Z  43.695751   \n",
       "131065  2014-09-15T04:00:00.000Z  2014-09-16T04:00:00.000Z  43.748486   \n",
       "131066  2014-09-15T04:00:00.000Z  2014-09-16T04:00:00.000Z  43.709904   \n",
       "131067  2014-09-18T04:00:00.000Z  2014-09-18T04:00:00.000Z  43.688309   \n",
       "131068  2014-09-18T04:00:00.000Z  2014-09-18T04:00:00.000Z  43.743305   \n",
       "131069  2014-09-20T04:00:00.000Z  2014-09-21T04:00:00.000Z  43.693031   \n",
       "131070  2014-09-22T04:00:00.000Z  2014-09-22T04:00:00.000Z  43.788761   \n",
       "131071  2014-09-21T04:00:00.000Z  2014-09-22T04:00:00.000Z  43.726807   \n",
       "131072  2014-09-22T04:00:00.000Z  2014-09-22T04:00:00.000Z  43.652630   \n",
       "\n",
       "             Long                      Neighbourhood premisetype         MCI  \n",
       "131063 -79.548469  Kingsview Village-The Westway (6)     Outside  Auto Theft  \n",
       "131064 -79.510284                       Weston (113)     Outside  Auto Theft  \n",
       "131065 -79.550110                    Humbermede (22)     Outside  Auto Theft  \n",
       "131066 -79.515373          Pelmo Park-Humberlea (23)       House  Auto Theft  \n",
       "131067 -79.493141                 Mount Dennis (115)     Outside  Auto Theft  \n",
       "131068 -79.406494          St.Andrew-Windfields (40)     Outside  Auto Theft  \n",
       "131069 -79.564003  Kingsview Village-The Westway (6)  Commercial  Auto Theft  \n",
       "131070 -79.162148               Highland Creek (134)       House  Auto Theft  \n",
       "131071 -79.459641            Yorkdale-Glen Park (31)     Outside  Auto Theft  \n",
       "131072 -79.366463                     Moss Park (73)     Outside  Auto Theft  "
      ]
     },
     "execution_count": 3,
     "metadata": {},
     "output_type": "execute_result"
    }
   ],
   "source": [
    "########################\n",
    "# Your Code Below\n",
    "########################\n",
    "\n",
    "crime = pd.read_csv('data/crime.csv')\n",
    "\n",
    "crime.tail(10)"
   ]
  },
  {
   "cell_type": "code",
   "execution_count": 6,
   "metadata": {},
   "outputs": [
    {
     "data": {
      "text/html": [
       "<div>\n",
       "<style scoped>\n",
       "    .dataframe tbody tr th:only-of-type {\n",
       "        vertical-align: middle;\n",
       "    }\n",
       "\n",
       "    .dataframe tbody tr th {\n",
       "        vertical-align: top;\n",
       "    }\n",
       "\n",
       "    .dataframe thead th {\n",
       "        text-align: right;\n",
       "    }\n",
       "</style>\n",
       "<table border=\"1\" class=\"dataframe\">\n",
       "  <thead>\n",
       "    <tr style=\"text-align: right;\">\n",
       "      <th></th>\n",
       "      <th>occurrencedate</th>\n",
       "      <th>reporteddate</th>\n",
       "      <th>Lat</th>\n",
       "      <th>Long</th>\n",
       "      <th>Neighbourhood</th>\n",
       "      <th>premisetype</th>\n",
       "      <th>MCI</th>\n",
       "    </tr>\n",
       "  </thead>\n",
       "  <tbody>\n",
       "    <tr>\n",
       "      <th>count</th>\n",
       "      <td>131073</td>\n",
       "      <td>131073</td>\n",
       "      <td>131073.000000</td>\n",
       "      <td>131073.000000</td>\n",
       "      <td>131073</td>\n",
       "      <td>131073</td>\n",
       "      <td>131073</td>\n",
       "    </tr>\n",
       "    <tr>\n",
       "      <th>unique</th>\n",
       "      <td>1800</td>\n",
       "      <td>1461</td>\n",
       "      <td>NaN</td>\n",
       "      <td>NaN</td>\n",
       "      <td>140</td>\n",
       "      <td>5</td>\n",
       "      <td>5</td>\n",
       "    </tr>\n",
       "    <tr>\n",
       "      <th>top</th>\n",
       "      <td>2014-01-01T05:00:00.000Z</td>\n",
       "      <td>2015-11-16T05:00:00.000Z</td>\n",
       "      <td>NaN</td>\n",
       "      <td>NaN</td>\n",
       "      <td>Church-Yonge Corridor (75)</td>\n",
       "      <td>Outside</td>\n",
       "      <td>Assault</td>\n",
       "    </tr>\n",
       "    <tr>\n",
       "      <th>freq</th>\n",
       "      <td>197</td>\n",
       "      <td>144</td>\n",
       "      <td>NaN</td>\n",
       "      <td>NaN</td>\n",
       "      <td>4699</td>\n",
       "      <td>34996</td>\n",
       "      <td>71440</td>\n",
       "    </tr>\n",
       "    <tr>\n",
       "      <th>mean</th>\n",
       "      <td>NaN</td>\n",
       "      <td>NaN</td>\n",
       "      <td>43.708025</td>\n",
       "      <td>-79.394158</td>\n",
       "      <td>NaN</td>\n",
       "      <td>NaN</td>\n",
       "      <td>NaN</td>\n",
       "    </tr>\n",
       "    <tr>\n",
       "      <th>std</th>\n",
       "      <td>NaN</td>\n",
       "      <td>NaN</td>\n",
       "      <td>0.052587</td>\n",
       "      <td>0.105263</td>\n",
       "      <td>NaN</td>\n",
       "      <td>NaN</td>\n",
       "      <td>NaN</td>\n",
       "    </tr>\n",
       "    <tr>\n",
       "      <th>min</th>\n",
       "      <td>NaN</td>\n",
       "      <td>NaN</td>\n",
       "      <td>43.587093</td>\n",
       "      <td>-79.635239</td>\n",
       "      <td>NaN</td>\n",
       "      <td>NaN</td>\n",
       "      <td>NaN</td>\n",
       "    </tr>\n",
       "    <tr>\n",
       "      <th>25%</th>\n",
       "      <td>NaN</td>\n",
       "      <td>NaN</td>\n",
       "      <td>43.661774</td>\n",
       "      <td>-79.473244</td>\n",
       "      <td>NaN</td>\n",
       "      <td>NaN</td>\n",
       "      <td>NaN</td>\n",
       "    </tr>\n",
       "    <tr>\n",
       "      <th>50%</th>\n",
       "      <td>NaN</td>\n",
       "      <td>NaN</td>\n",
       "      <td>43.702255</td>\n",
       "      <td>-79.393280</td>\n",
       "      <td>NaN</td>\n",
       "      <td>NaN</td>\n",
       "      <td>NaN</td>\n",
       "    </tr>\n",
       "    <tr>\n",
       "      <th>75%</th>\n",
       "      <td>NaN</td>\n",
       "      <td>NaN</td>\n",
       "      <td>43.752491</td>\n",
       "      <td>-79.315636</td>\n",
       "      <td>NaN</td>\n",
       "      <td>NaN</td>\n",
       "      <td>NaN</td>\n",
       "    </tr>\n",
       "    <tr>\n",
       "      <th>max</th>\n",
       "      <td>NaN</td>\n",
       "      <td>NaN</td>\n",
       "      <td>43.847954</td>\n",
       "      <td>-79.123100</td>\n",
       "      <td>NaN</td>\n",
       "      <td>NaN</td>\n",
       "      <td>NaN</td>\n",
       "    </tr>\n",
       "  </tbody>\n",
       "</table>\n",
       "</div>"
      ],
      "text/plain": [
       "                  occurrencedate              reporteddate            Lat  \\\n",
       "count                     131073                    131073  131073.000000   \n",
       "unique                      1800                      1461            NaN   \n",
       "top     2014-01-01T05:00:00.000Z  2015-11-16T05:00:00.000Z            NaN   \n",
       "freq                         197                       144            NaN   \n",
       "mean                         NaN                       NaN      43.708025   \n",
       "std                          NaN                       NaN       0.052587   \n",
       "min                          NaN                       NaN      43.587093   \n",
       "25%                          NaN                       NaN      43.661774   \n",
       "50%                          NaN                       NaN      43.702255   \n",
       "75%                          NaN                       NaN      43.752491   \n",
       "max                          NaN                       NaN      43.847954   \n",
       "\n",
       "                 Long               Neighbourhood premisetype      MCI  \n",
       "count   131073.000000                      131073      131073   131073  \n",
       "unique            NaN                         140           5        5  \n",
       "top               NaN  Church-Yonge Corridor (75)     Outside  Assault  \n",
       "freq              NaN                        4699       34996    71440  \n",
       "mean       -79.394158                         NaN         NaN      NaN  \n",
       "std          0.105263                         NaN         NaN      NaN  \n",
       "min        -79.635239                         NaN         NaN      NaN  \n",
       "25%        -79.473244                         NaN         NaN      NaN  \n",
       "50%        -79.393280                         NaN         NaN      NaN  \n",
       "75%        -79.315636                         NaN         NaN      NaN  \n",
       "max        -79.123100                         NaN         NaN      NaN  "
      ]
     },
     "execution_count": 6,
     "metadata": {},
     "output_type": "execute_result"
    }
   ],
   "source": [
    "crime.describe(include='all')"
   ]
  },
  {
   "cell_type": "code",
   "execution_count": 17,
   "metadata": {},
   "outputs": [
    {
     "data": {
      "text/html": [
       "<div>\n",
       "<style scoped>\n",
       "    .dataframe tbody tr th:only-of-type {\n",
       "        vertical-align: middle;\n",
       "    }\n",
       "\n",
       "    .dataframe tbody tr th {\n",
       "        vertical-align: top;\n",
       "    }\n",
       "\n",
       "    .dataframe thead th {\n",
       "        text-align: right;\n",
       "    }\n",
       "</style>\n",
       "<table border=\"1\" class=\"dataframe\">\n",
       "  <thead>\n",
       "    <tr style=\"text-align: right;\">\n",
       "      <th></th>\n",
       "      <th>Lat</th>\n",
       "      <th>Long</th>\n",
       "    </tr>\n",
       "  </thead>\n",
       "  <tbody>\n",
       "    <tr>\n",
       "      <th>100</th>\n",
       "      <td>43.652947</td>\n",
       "      <td>-79.398048</td>\n",
       "    </tr>\n",
       "    <tr>\n",
       "      <th>101</th>\n",
       "      <td>43.670200</td>\n",
       "      <td>-79.360153</td>\n",
       "    </tr>\n",
       "    <tr>\n",
       "      <th>102</th>\n",
       "      <td>43.671917</td>\n",
       "      <td>-79.379067</td>\n",
       "    </tr>\n",
       "    <tr>\n",
       "      <th>103</th>\n",
       "      <td>43.782120</td>\n",
       "      <td>-79.293465</td>\n",
       "    </tr>\n",
       "    <tr>\n",
       "      <th>104</th>\n",
       "      <td>43.647739</td>\n",
       "      <td>-79.361046</td>\n",
       "    </tr>\n",
       "    <tr>\n",
       "      <th>105</th>\n",
       "      <td>43.652947</td>\n",
       "      <td>-79.398048</td>\n",
       "    </tr>\n",
       "    <tr>\n",
       "      <th>106</th>\n",
       "      <td>43.640205</td>\n",
       "      <td>-79.394432</td>\n",
       "    </tr>\n",
       "    <tr>\n",
       "      <th>107</th>\n",
       "      <td>43.712444</td>\n",
       "      <td>-79.272407</td>\n",
       "    </tr>\n",
       "    <tr>\n",
       "      <th>108</th>\n",
       "      <td>43.696152</td>\n",
       "      <td>-79.291565</td>\n",
       "    </tr>\n",
       "    <tr>\n",
       "      <th>109</th>\n",
       "      <td>43.698837</td>\n",
       "      <td>-79.515877</td>\n",
       "    </tr>\n",
       "    <tr>\n",
       "      <th>110</th>\n",
       "      <td>43.625210</td>\n",
       "      <td>-79.528549</td>\n",
       "    </tr>\n",
       "    <tr>\n",
       "      <th>111</th>\n",
       "      <td>43.817764</td>\n",
       "      <td>-79.307747</td>\n",
       "    </tr>\n",
       "    <tr>\n",
       "      <th>112</th>\n",
       "      <td>43.677147</td>\n",
       "      <td>-79.354057</td>\n",
       "    </tr>\n",
       "    <tr>\n",
       "      <th>113</th>\n",
       "      <td>43.667465</td>\n",
       "      <td>-79.404190</td>\n",
       "    </tr>\n",
       "    <tr>\n",
       "      <th>114</th>\n",
       "      <td>43.645374</td>\n",
       "      <td>-79.392059</td>\n",
       "    </tr>\n",
       "    <tr>\n",
       "      <th>115</th>\n",
       "      <td>43.645763</td>\n",
       "      <td>-79.393639</td>\n",
       "    </tr>\n",
       "    <tr>\n",
       "      <th>116</th>\n",
       "      <td>43.690609</td>\n",
       "      <td>-79.411522</td>\n",
       "    </tr>\n",
       "    <tr>\n",
       "      <th>117</th>\n",
       "      <td>43.787392</td>\n",
       "      <td>-79.269295</td>\n",
       "    </tr>\n",
       "    <tr>\n",
       "      <th>118</th>\n",
       "      <td>43.831047</td>\n",
       "      <td>-79.275192</td>\n",
       "    </tr>\n",
       "    <tr>\n",
       "      <th>119</th>\n",
       "      <td>43.648712</td>\n",
       "      <td>-79.400940</td>\n",
       "    </tr>\n",
       "    <tr>\n",
       "      <th>120</th>\n",
       "      <td>43.758625</td>\n",
       "      <td>-79.492828</td>\n",
       "    </tr>\n",
       "    <tr>\n",
       "      <th>121</th>\n",
       "      <td>43.776482</td>\n",
       "      <td>-79.172516</td>\n",
       "    </tr>\n",
       "    <tr>\n",
       "      <th>122</th>\n",
       "      <td>43.693035</td>\n",
       "      <td>-79.342453</td>\n",
       "    </tr>\n",
       "    <tr>\n",
       "      <th>123</th>\n",
       "      <td>43.690609</td>\n",
       "      <td>-79.411522</td>\n",
       "    </tr>\n",
       "    <tr>\n",
       "      <th>124</th>\n",
       "      <td>43.702721</td>\n",
       "      <td>-79.417381</td>\n",
       "    </tr>\n",
       "    <tr>\n",
       "      <th>125</th>\n",
       "      <td>43.622021</td>\n",
       "      <td>-79.522026</td>\n",
       "    </tr>\n",
       "    <tr>\n",
       "      <th>126</th>\n",
       "      <td>43.716557</td>\n",
       "      <td>-79.337318</td>\n",
       "    </tr>\n",
       "    <tr>\n",
       "      <th>127</th>\n",
       "      <td>43.716557</td>\n",
       "      <td>-79.337318</td>\n",
       "    </tr>\n",
       "    <tr>\n",
       "      <th>128</th>\n",
       "      <td>43.775837</td>\n",
       "      <td>-79.343719</td>\n",
       "    </tr>\n",
       "    <tr>\n",
       "      <th>129</th>\n",
       "      <td>43.821056</td>\n",
       "      <td>-79.206200</td>\n",
       "    </tr>\n",
       "    <tr>\n",
       "      <th>...</th>\n",
       "      <td>...</td>\n",
       "      <td>...</td>\n",
       "    </tr>\n",
       "    <tr>\n",
       "      <th>171</th>\n",
       "      <td>43.643929</td>\n",
       "      <td>-79.402702</td>\n",
       "    </tr>\n",
       "    <tr>\n",
       "      <th>172</th>\n",
       "      <td>43.643929</td>\n",
       "      <td>-79.402702</td>\n",
       "    </tr>\n",
       "    <tr>\n",
       "      <th>173</th>\n",
       "      <td>43.635597</td>\n",
       "      <td>-79.426086</td>\n",
       "    </tr>\n",
       "    <tr>\n",
       "      <th>174</th>\n",
       "      <td>43.767654</td>\n",
       "      <td>-79.189613</td>\n",
       "    </tr>\n",
       "    <tr>\n",
       "      <th>175</th>\n",
       "      <td>43.787392</td>\n",
       "      <td>-79.269295</td>\n",
       "    </tr>\n",
       "    <tr>\n",
       "      <th>176</th>\n",
       "      <td>43.660564</td>\n",
       "      <td>-79.337273</td>\n",
       "    </tr>\n",
       "    <tr>\n",
       "      <th>177</th>\n",
       "      <td>43.730846</td>\n",
       "      <td>-79.273888</td>\n",
       "    </tr>\n",
       "    <tr>\n",
       "      <th>178</th>\n",
       "      <td>43.730846</td>\n",
       "      <td>-79.273888</td>\n",
       "    </tr>\n",
       "    <tr>\n",
       "      <th>179</th>\n",
       "      <td>43.693287</td>\n",
       "      <td>-79.454147</td>\n",
       "    </tr>\n",
       "    <tr>\n",
       "      <th>180</th>\n",
       "      <td>43.694424</td>\n",
       "      <td>-79.308235</td>\n",
       "    </tr>\n",
       "    <tr>\n",
       "      <th>181</th>\n",
       "      <td>43.694424</td>\n",
       "      <td>-79.308235</td>\n",
       "    </tr>\n",
       "    <tr>\n",
       "      <th>182</th>\n",
       "      <td>43.756603</td>\n",
       "      <td>-79.497658</td>\n",
       "    </tr>\n",
       "    <tr>\n",
       "      <th>183</th>\n",
       "      <td>43.659225</td>\n",
       "      <td>-79.443047</td>\n",
       "    </tr>\n",
       "    <tr>\n",
       "      <th>184</th>\n",
       "      <td>43.735317</td>\n",
       "      <td>-79.578972</td>\n",
       "    </tr>\n",
       "    <tr>\n",
       "      <th>185</th>\n",
       "      <td>43.666729</td>\n",
       "      <td>-79.446465</td>\n",
       "    </tr>\n",
       "    <tr>\n",
       "      <th>186</th>\n",
       "      <td>43.782597</td>\n",
       "      <td>-79.224319</td>\n",
       "    </tr>\n",
       "    <tr>\n",
       "      <th>187</th>\n",
       "      <td>43.689041</td>\n",
       "      <td>-79.297897</td>\n",
       "    </tr>\n",
       "    <tr>\n",
       "      <th>188</th>\n",
       "      <td>43.689041</td>\n",
       "      <td>-79.297897</td>\n",
       "    </tr>\n",
       "    <tr>\n",
       "      <th>189</th>\n",
       "      <td>43.657040</td>\n",
       "      <td>-79.381226</td>\n",
       "    </tr>\n",
       "    <tr>\n",
       "      <th>190</th>\n",
       "      <td>43.657040</td>\n",
       "      <td>-79.381226</td>\n",
       "    </tr>\n",
       "    <tr>\n",
       "      <th>191</th>\n",
       "      <td>43.657040</td>\n",
       "      <td>-79.381226</td>\n",
       "    </tr>\n",
       "    <tr>\n",
       "      <th>192</th>\n",
       "      <td>43.669807</td>\n",
       "      <td>-79.479950</td>\n",
       "    </tr>\n",
       "    <tr>\n",
       "      <th>193</th>\n",
       "      <td>43.789280</td>\n",
       "      <td>-79.194359</td>\n",
       "    </tr>\n",
       "    <tr>\n",
       "      <th>194</th>\n",
       "      <td>43.761299</td>\n",
       "      <td>-79.324997</td>\n",
       "    </tr>\n",
       "    <tr>\n",
       "      <th>195</th>\n",
       "      <td>43.647160</td>\n",
       "      <td>-79.369186</td>\n",
       "    </tr>\n",
       "    <tr>\n",
       "      <th>196</th>\n",
       "      <td>43.758137</td>\n",
       "      <td>-79.509125</td>\n",
       "    </tr>\n",
       "    <tr>\n",
       "      <th>197</th>\n",
       "      <td>43.779636</td>\n",
       "      <td>-79.345734</td>\n",
       "    </tr>\n",
       "    <tr>\n",
       "      <th>198</th>\n",
       "      <td>43.644779</td>\n",
       "      <td>-79.398506</td>\n",
       "    </tr>\n",
       "    <tr>\n",
       "      <th>199</th>\n",
       "      <td>43.612106</td>\n",
       "      <td>-79.489891</td>\n",
       "    </tr>\n",
       "    <tr>\n",
       "      <th>200</th>\n",
       "      <td>43.695316</td>\n",
       "      <td>-79.450119</td>\n",
       "    </tr>\n",
       "  </tbody>\n",
       "</table>\n",
       "<p>101 rows × 2 columns</p>\n",
       "</div>"
      ],
      "text/plain": [
       "           Lat       Long\n",
       "100  43.652947 -79.398048\n",
       "101  43.670200 -79.360153\n",
       "102  43.671917 -79.379067\n",
       "103  43.782120 -79.293465\n",
       "104  43.647739 -79.361046\n",
       "105  43.652947 -79.398048\n",
       "106  43.640205 -79.394432\n",
       "107  43.712444 -79.272407\n",
       "108  43.696152 -79.291565\n",
       "109  43.698837 -79.515877\n",
       "110  43.625210 -79.528549\n",
       "111  43.817764 -79.307747\n",
       "112  43.677147 -79.354057\n",
       "113  43.667465 -79.404190\n",
       "114  43.645374 -79.392059\n",
       "115  43.645763 -79.393639\n",
       "116  43.690609 -79.411522\n",
       "117  43.787392 -79.269295\n",
       "118  43.831047 -79.275192\n",
       "119  43.648712 -79.400940\n",
       "120  43.758625 -79.492828\n",
       "121  43.776482 -79.172516\n",
       "122  43.693035 -79.342453\n",
       "123  43.690609 -79.411522\n",
       "124  43.702721 -79.417381\n",
       "125  43.622021 -79.522026\n",
       "126  43.716557 -79.337318\n",
       "127  43.716557 -79.337318\n",
       "128  43.775837 -79.343719\n",
       "129  43.821056 -79.206200\n",
       "..         ...        ...\n",
       "171  43.643929 -79.402702\n",
       "172  43.643929 -79.402702\n",
       "173  43.635597 -79.426086\n",
       "174  43.767654 -79.189613\n",
       "175  43.787392 -79.269295\n",
       "176  43.660564 -79.337273\n",
       "177  43.730846 -79.273888\n",
       "178  43.730846 -79.273888\n",
       "179  43.693287 -79.454147\n",
       "180  43.694424 -79.308235\n",
       "181  43.694424 -79.308235\n",
       "182  43.756603 -79.497658\n",
       "183  43.659225 -79.443047\n",
       "184  43.735317 -79.578972\n",
       "185  43.666729 -79.446465\n",
       "186  43.782597 -79.224319\n",
       "187  43.689041 -79.297897\n",
       "188  43.689041 -79.297897\n",
       "189  43.657040 -79.381226\n",
       "190  43.657040 -79.381226\n",
       "191  43.657040 -79.381226\n",
       "192  43.669807 -79.479950\n",
       "193  43.789280 -79.194359\n",
       "194  43.761299 -79.324997\n",
       "195  43.647160 -79.369186\n",
       "196  43.758137 -79.509125\n",
       "197  43.779636 -79.345734\n",
       "198  43.644779 -79.398506\n",
       "199  43.612106 -79.489891\n",
       "200  43.695316 -79.450119\n",
       "\n",
       "[101 rows x 2 columns]"
      ]
     },
     "execution_count": 17,
     "metadata": {},
     "output_type": "execute_result"
    }
   ],
   "source": [
    "crime[['Lat','Long']].iloc[100:201]"
   ]
  },
  {
   "cell_type": "markdown",
   "metadata": {},
   "source": [
    "# $\\Omega$ Transforming Data"
   ]
  },
  {
   "cell_type": "markdown",
   "metadata": {},
   "source": [
    "### Calculate ticket price in today's dollar\n",
    "According to the Bureau of Labor Statistics consumer price index, prices in 2018 are 2,669.00% higher than prices in 1909. The dollar experienced an average inflation rate of 3.09% per year."
   ]
  },
  {
   "cell_type": "markdown",
   "metadata": {},
   "source": [
    "### Add new column"
   ]
  },
  {
   "cell_type": "markdown",
   "metadata": {},
   "source": [
    "### Count missing values"
   ]
  },
  {
   "cell_type": "markdown",
   "metadata": {},
   "source": [
    "### Calculate mean"
   ]
  },
  {
   "cell_type": "markdown",
   "metadata": {},
   "source": [
    "### Fill missing values"
   ]
  },
  {
   "cell_type": "markdown",
   "metadata": {},
   "source": [
    "### Count categorical data"
   ]
  },
  {
   "cell_type": "markdown",
   "metadata": {},
   "source": [
    "### Groupby & aggregate"
   ]
  },
  {
   "cell_type": "markdown",
   "metadata": {},
   "source": [
    "### Save new dataframe as csv"
   ]
  },
  {
   "cell_type": "markdown",
   "metadata": {},
   "source": [
    "## $\\Delta$ Exercise 2 - Crime Dataset\n",
    "\n",
    "Some helpful functions:\n",
    "- `pd.to_datetime`\n",
    "- `.dt.year`\n",
    "- `.dt.month`\n",
    "- `.dt.dayofweek`\n",
    "- `.dt.hour`\n",
    "\n",
    "**Questions:**\n",
    "1. Create a new column called `datetime` by converting `occurrencedate` to a datetime object\n",
    "2. Create a new column called `year`\n",
    "3. Create a new column called `month`\n",
    "4. Create a new column called `dayofweek`\n",
    "5. Create a new column called `hour`\n",
    "6. Print the type of every column\n",
    "7. Print new summary statistics"
   ]
  },
  {
   "cell_type": "code",
   "execution_count": 38,
   "metadata": {},
   "outputs": [],
   "source": [
    "########################\n",
    "# Your Code Below\n",
    "########################"
   ]
  },
  {
   "cell_type": "markdown",
   "metadata": {},
   "source": [
    "# $\\Omega$ Data Visualization\n",
    "https://pandas.pydata.org/pandas-docs/stable/visualization.html"
   ]
  },
  {
   "cell_type": "markdown",
   "metadata": {},
   "source": [
    "### Bar plot"
   ]
  },
  {
   "cell_type": "markdown",
   "metadata": {},
   "source": [
    "### Pie plot"
   ]
  },
  {
   "cell_type": "markdown",
   "metadata": {},
   "source": [
    "### Set figure size"
   ]
  },
  {
   "cell_type": "markdown",
   "metadata": {},
   "source": [
    "### Set global style"
   ]
  },
  {
   "cell_type": "markdown",
   "metadata": {},
   "source": [
    "### Histogram"
   ]
  },
  {
   "cell_type": "markdown",
   "metadata": {},
   "source": [
    "### Set histogram bin size"
   ]
  },
  {
   "cell_type": "markdown",
   "metadata": {},
   "source": [
    "### Boxplot"
   ]
  },
  {
   "cell_type": "markdown",
   "metadata": {},
   "source": [
    "### Scatter plot"
   ]
  },
  {
   "cell_type": "markdown",
   "metadata": {},
   "source": [
    "### Transform then plot"
   ]
  },
  {
   "cell_type": "markdown",
   "metadata": {},
   "source": [
    "## $\\Delta$ Exercise 3 - Crime Dataset\n",
    "\n",
    "**Questions:**\n",
    "1. Create a bar plot of `MCI`\n",
    "2. Create a line and bar plot of `year`\n",
    "3. Filter the dataframe for only years greater than or equal to 2014\n",
    "4. Create a histogram of `Lat`\n",
    "5. Create a histogram of `Long`\n",
    "6. Get the 10 Neighbourhoods with the most crime\n",
    "\n",
    "**Bonus:**\n",
    "- Explore the dataset and see if you can come up with your own interesting analysis or plot"
   ]
  },
  {
   "cell_type": "code",
   "execution_count": 55,
   "metadata": {},
   "outputs": [],
   "source": [
    "########################\n",
    "# Your Code Below\n",
    "########################"
   ]
  },
  {
   "cell_type": "markdown",
   "metadata": {},
   "source": [
    "# $\\Omega$ Machine Learning\n",
    "\n",
    "> Scikit-learn (formerly scikits.learn) is a free software machine learning library for the Python programming language. It features various classification, regression and clustering algorithms including support vector machines, random forests, gradient boosting, k-means and DBSCAN, and is designed to interoperate with the Python numerical and scientific libraries NumPy and SciPy.\n",
    "\n",
    "http://scikit-learn.org/stable/user_guide.html"
   ]
  },
  {
   "cell_type": "markdown",
   "metadata": {},
   "source": [
    "- `pip install scikit-plot`\n",
    "- `pip install mlxtend`"
   ]
  },
  {
   "cell_type": "code",
   "execution_count": 137,
   "metadata": {},
   "outputs": [],
   "source": [
    "from sklearn.datasets import make_blobs\n",
    "from sklearn.tree import DecisionTreeClassifier\n",
    "from sklearn.ensemble import RandomForestClassifier\n",
    "from sklearn.model_selection import train_test_split\n",
    "from sklearn.metrics import classification_report\n",
    "from sklearn.metrics import confusion_matrix\n",
    "\n",
    "from mlxtend.plotting import category_scatter\n",
    "from mlxtend.plotting import plot_decision_regions\n",
    "\n",
    "import scikitplot as skplt"
   ]
  },
  {
   "cell_type": "code",
   "execution_count": 138,
   "metadata": {},
   "outputs": [
    {
     "data": {
      "text/html": [
       "<div>\n",
       "<style scoped>\n",
       "    .dataframe tbody tr th:only-of-type {\n",
       "        vertical-align: middle;\n",
       "    }\n",
       "\n",
       "    .dataframe tbody tr th {\n",
       "        vertical-align: top;\n",
       "    }\n",
       "\n",
       "    .dataframe thead th {\n",
       "        text-align: right;\n",
       "    }\n",
       "</style>\n",
       "<table border=\"1\" class=\"dataframe\">\n",
       "  <thead>\n",
       "    <tr style=\"text-align: right;\">\n",
       "      <th></th>\n",
       "      <th>feature1</th>\n",
       "      <th>feature2</th>\n",
       "      <th>label</th>\n",
       "    </tr>\n",
       "  </thead>\n",
       "  <tbody>\n",
       "    <tr>\n",
       "      <th>0</th>\n",
       "      <td>0.471828</td>\n",
       "      <td>-0.072969</td>\n",
       "      <td>0</td>\n",
       "    </tr>\n",
       "    <tr>\n",
       "      <th>1</th>\n",
       "      <td>1.889553</td>\n",
       "      <td>1.382638</td>\n",
       "      <td>1</td>\n",
       "    </tr>\n",
       "    <tr>\n",
       "      <th>2</th>\n",
       "      <td>2.520576</td>\n",
       "      <td>0.855659</td>\n",
       "      <td>1</td>\n",
       "    </tr>\n",
       "    <tr>\n",
       "      <th>3</th>\n",
       "      <td>1.819080</td>\n",
       "      <td>1.396079</td>\n",
       "      <td>1</td>\n",
       "    </tr>\n",
       "    <tr>\n",
       "      <th>4</th>\n",
       "      <td>4.190700</td>\n",
       "      <td>0.103639</td>\n",
       "      <td>1</td>\n",
       "    </tr>\n",
       "  </tbody>\n",
       "</table>\n",
       "</div>"
      ],
      "text/plain": [
       "   feature1  feature2  label\n",
       "0  0.471828 -0.072969      0\n",
       "1  1.889553  1.382638      1\n",
       "2  2.520576  0.855659      1\n",
       "3  1.819080  1.396079      1\n",
       "4  4.190700  0.103639      1"
      ]
     },
     "execution_count": 138,
     "metadata": {},
     "output_type": "execute_result"
    }
   ],
   "source": [
    "X, y = make_blobs(centers=[[1, 1], [2, 2]], random_state=1)\n",
    "\n",
    "df = pd.DataFrame(X, columns=['feature1', 'feature2']).assign(label=y)\n",
    "\n",
    "df.head()"
   ]
  },
  {
   "cell_type": "code",
   "execution_count": 139,
   "metadata": {},
   "outputs": [
    {
     "data": {
      "image/png": "[encoded data removed]",
      "text/plain": [
       "<matplotlib.figure.Figure at 0x7f85c8ec6da0>"
      ]
     },
     "metadata": {},
     "output_type": "display_data"
    }
   ],
   "source": [
    "category_scatter(x='feature1', y='feature2', label_col='label', data=df);"
   ]
  },
  {
   "cell_type": "code",
   "execution_count": 142,
   "metadata": {
    "scrolled": true
   },
   "outputs": [
    {
     "data": {
      "image/png": "[encoded data removed]",
      "text/plain": [
       "<matplotlib.figure.Figure at 0x7f85c93beda0>"
      ]
     },
     "metadata": {},
     "output_type": "display_data"
    }
   ],
   "source": [
    "d_tree = DecisionTreeClassifier(max_depth=10)\n",
    "d_tree.fit(X, y)\n",
    "\n",
    "plot_decision_regions(X, y, clf=d_tree);"
   ]
  },
  {
   "cell_type": "markdown",
   "metadata": {},
   "source": [
    "### Titanic "
   ]
  },
  {
   "cell_type": "code",
   "execution_count": 68,
   "metadata": {
    "scrolled": true
   },
   "outputs": [
    {
     "data": {
      "text/html": [
       "<div>\n",
       "<style scoped>\n",
       "    .dataframe tbody tr th:only-of-type {\n",
       "        vertical-align: middle;\n",
       "    }\n",
       "\n",
       "    .dataframe tbody tr th {\n",
       "        vertical-align: top;\n",
       "    }\n",
       "\n",
       "    .dataframe thead th {\n",
       "        text-align: right;\n",
       "    }\n",
       "</style>\n",
       "<table border=\"1\" class=\"dataframe\">\n",
       "  <thead>\n",
       "    <tr style=\"text-align: right;\">\n",
       "      <th></th>\n",
       "      <th>pclass</th>\n",
       "      <th>survived</th>\n",
       "      <th>name</th>\n",
       "      <th>sex</th>\n",
       "      <th>age</th>\n",
       "      <th>sibsp</th>\n",
       "      <th>parch</th>\n",
       "      <th>ticket</th>\n",
       "      <th>fare</th>\n",
       "      <th>cabin</th>\n",
       "      <th>embarked</th>\n",
       "      <th>boat</th>\n",
       "      <th>body</th>\n",
       "      <th>home.dest</th>\n",
       "      <th>fare_2018</th>\n",
       "      <th>is_child</th>\n",
       "    </tr>\n",
       "  </thead>\n",
       "  <tbody>\n",
       "    <tr>\n",
       "      <th>0</th>\n",
       "      <td>1</td>\n",
       "      <td>1</td>\n",
       "      <td>Allen, Miss. Elisabeth Walton</td>\n",
       "      <td>female</td>\n",
       "      <td>29</td>\n",
       "      <td>0</td>\n",
       "      <td>0</td>\n",
       "      <td>24160</td>\n",
       "      <td>211.3375</td>\n",
       "      <td>B5</td>\n",
       "      <td>S</td>\n",
       "      <td>2</td>\n",
       "      <td>NaN</td>\n",
       "      <td>St Louis, MO</td>\n",
       "      <td>5640.60</td>\n",
       "      <td>False</td>\n",
       "    </tr>\n",
       "    <tr>\n",
       "      <th>1</th>\n",
       "      <td>1</td>\n",
       "      <td>1</td>\n",
       "      <td>Allison, Master. Hudson Trevor</td>\n",
       "      <td>male</td>\n",
       "      <td>1</td>\n",
       "      <td>1</td>\n",
       "      <td>2</td>\n",
       "      <td>113781</td>\n",
       "      <td>151.5500</td>\n",
       "      <td>C22 C26</td>\n",
       "      <td>S</td>\n",
       "      <td>11</td>\n",
       "      <td>NaN</td>\n",
       "      <td>Montreal, PQ / Chesterville, ON</td>\n",
       "      <td>4044.87</td>\n",
       "      <td>True</td>\n",
       "    </tr>\n",
       "    <tr>\n",
       "      <th>2</th>\n",
       "      <td>1</td>\n",
       "      <td>0</td>\n",
       "      <td>Allison, Miss. Helen Loraine</td>\n",
       "      <td>female</td>\n",
       "      <td>2</td>\n",
       "      <td>1</td>\n",
       "      <td>2</td>\n",
       "      <td>113781</td>\n",
       "      <td>151.5500</td>\n",
       "      <td>C22 C26</td>\n",
       "      <td>S</td>\n",
       "      <td>NaN</td>\n",
       "      <td>NaN</td>\n",
       "      <td>Montreal, PQ / Chesterville, ON</td>\n",
       "      <td>4044.87</td>\n",
       "      <td>True</td>\n",
       "    </tr>\n",
       "    <tr>\n",
       "      <th>3</th>\n",
       "      <td>1</td>\n",
       "      <td>0</td>\n",
       "      <td>Allison, Mr. Hudson Joshua Creighton</td>\n",
       "      <td>male</td>\n",
       "      <td>30</td>\n",
       "      <td>1</td>\n",
       "      <td>2</td>\n",
       "      <td>113781</td>\n",
       "      <td>151.5500</td>\n",
       "      <td>C22 C26</td>\n",
       "      <td>S</td>\n",
       "      <td>NaN</td>\n",
       "      <td>135.0</td>\n",
       "      <td>Montreal, PQ / Chesterville, ON</td>\n",
       "      <td>4044.87</td>\n",
       "      <td>False</td>\n",
       "    </tr>\n",
       "    <tr>\n",
       "      <th>4</th>\n",
       "      <td>1</td>\n",
       "      <td>0</td>\n",
       "      <td>Allison, Mrs. Hudson J C (Bessie Waldo Daniels)</td>\n",
       "      <td>female</td>\n",
       "      <td>25</td>\n",
       "      <td>1</td>\n",
       "      <td>2</td>\n",
       "      <td>113781</td>\n",
       "      <td>151.5500</td>\n",
       "      <td>C22 C26</td>\n",
       "      <td>S</td>\n",
       "      <td>NaN</td>\n",
       "      <td>NaN</td>\n",
       "      <td>Montreal, PQ / Chesterville, ON</td>\n",
       "      <td>4044.87</td>\n",
       "      <td>False</td>\n",
       "    </tr>\n",
       "  </tbody>\n",
       "</table>\n",
       "</div>"
      ],
      "text/plain": [
       "   pclass  survived                                             name     sex  \\\n",
       "0       1         1                    Allen, Miss. Elisabeth Walton  female   \n",
       "1       1         1                   Allison, Master. Hudson Trevor    male   \n",
       "2       1         0                     Allison, Miss. Helen Loraine  female   \n",
       "3       1         0             Allison, Mr. Hudson Joshua Creighton    male   \n",
       "4       1         0  Allison, Mrs. Hudson J C (Bessie Waldo Daniels)  female   \n",
       "\n",
       "   age  sibsp  parch  ticket      fare    cabin embarked boat   body  \\\n",
       "0   29      0      0   24160  211.3375       B5        S    2    NaN   \n",
       "1    1      1      2  113781  151.5500  C22 C26        S   11    NaN   \n",
       "2    2      1      2  113781  151.5500  C22 C26        S  NaN    NaN   \n",
       "3   30      1      2  113781  151.5500  C22 C26        S  NaN  135.0   \n",
       "4   25      1      2  113781  151.5500  C22 C26        S  NaN    NaN   \n",
       "\n",
       "                         home.dest  fare_2018  is_child  \n",
       "0                     St Louis, MO    5640.60     False  \n",
       "1  Montreal, PQ / Chesterville, ON    4044.87      True  \n",
       "2  Montreal, PQ / Chesterville, ON    4044.87      True  \n",
       "3  Montreal, PQ / Chesterville, ON    4044.87     False  \n",
       "4  Montreal, PQ / Chesterville, ON    4044.87     False  "
      ]
     },
     "execution_count": 68,
     "metadata": {},
     "output_type": "execute_result"
    }
   ],
   "source": [
    "titanic.head()"
   ]
  },
  {
   "cell_type": "markdown",
   "metadata": {},
   "source": [
    "### Selecting features"
   ]
  },
  {
   "cell_type": "markdown",
   "metadata": {},
   "source": [
    "### One hot encoding"
   ]
  },
  {
   "cell_type": "markdown",
   "metadata": {},
   "source": [
    "### Make feature dataset"
   ]
  },
  {
   "cell_type": "markdown",
   "metadata": {},
   "source": [
    "### Make label"
   ]
  },
  {
   "cell_type": "markdown",
   "metadata": {},
   "source": [
    "### Make validation dataset"
   ]
  },
  {
   "cell_type": "markdown",
   "metadata": {},
   "source": [
    "### Build/train model"
   ]
  },
  {
   "cell_type": "markdown",
   "metadata": {},
   "source": [
    "### Model accuracy"
   ]
  },
  {
   "cell_type": "markdown",
   "metadata": {},
   "source": [
    "### Model prediction"
   ]
  },
  {
   "cell_type": "markdown",
   "metadata": {},
   "source": [
    "### Model evaluation"
   ]
  },
  {
   "cell_type": "markdown",
   "metadata": {},
   "source": [
    "## $\\Delta$ Exercise 4 - Crime Dataset\n",
    "\n",
    "**Questions:**\n",
    "1. Create a list of features: Lat, Long, year, month, dayofweek, hour, premisetype\n",
    "2. One hot encode the premisetype\n",
    "3. Create the feature set called `X`\n",
    "4. Create the target label `y` by encoding the `MCI` column\n",
    "5. Train and evaluate a model"
   ]
  },
  {
   "cell_type": "markdown",
   "metadata": {},
   "source": [
    "### Random Forest"
   ]
  },
  {
   "cell_type": "markdown",
   "metadata": {},
   "source": [
    "# $\\Omega$ Model Deployment"
   ]
  },
  {
   "cell_type": "code",
   "execution_count": 92,
   "metadata": {},
   "outputs": [
    {
     "data": {
      "text/plain": [
       "array([0])"
      ]
     },
     "execution_count": 92,
     "metadata": {},
     "output_type": "execute_result"
    }
   ],
   "source": [
    "model.predict([[43.669895, -79.390205, 2018, 9, 4, 9, 0, 0, 0, 0, 1]])"
   ]
  }
 ],
 "metadata": {
  "kernelspec": {
   "display_name": "Python 3",
   "language": "python",
   "name": "python3"
  },
  "language_info": {
   "codemirror_mode": {
    "name": "ipython",
    "version": 3
   },
   "file_extension": ".py",
   "mimetype": "text/x-python",
   "name": "python",
   "nbconvert_exporter": "python",
   "pygments_lexer": "ipython3",
   "version": "3.7.3"
  },
  "toc": {
   "base_numbering": 1,
   "nav_menu": {},
   "number_sections": false,
   "sideBar": true,
   "skip_h1_title": false,
   "title_cell": "Table of Contents",
   "title_sidebar": "Contents",
   "toc_cell": false,
   "toc_position": {},
   "toc_section_display": true,
   "toc_window_display": false
  }
 },
 "nbformat": 4,
 "nbformat_minor": 4
}
