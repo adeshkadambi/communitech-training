{
 "cells": [
  {
   "cell_type": "markdown",
   "metadata": {},
   "source": [
    "<center>\n",
    "    <img src=\"https://img.evbuc.com/https%3A%2F%2Fcdn.evbuc.com%2Fimages%2F53691183%2F257316737287%2F1%2Foriginal.jpg?w=800&auto=compress&rect=0%2C0%2C2160%2C1080&s=74711a2a8c51eb0f3bd59e5d482fdc07\" width=\"50%\">\n",
    "</center>\n",
    "\n",
    "----------\n",
    "\n",
    "<h1 align=\"center\"> Deep Learning </h1>\n",
    "<br>\n",
    "<center align=\"left\"> <font size='4'>  Developed by: </font> <img src=\"https://s3.amazonaws.com/weclouddata/images/logos/wcd_logo.png\" width=\"20%\">\n",
    "</center>\n",
    "<br>\n",
    "<center align=\"left\"> <font size='4' color='#FF5713'> Accelerating your data science career! </font></center>\n",
    "<br>\n",
    "\n",
    "---------"
   ]
  },
  {
   "cell_type": "markdown",
   "metadata": {},
   "source": [
    "Deep learning (also known as deep structured learning or hierarchical learning) is part of a broader family of machine learning methods based on artificial neural networks. Learning can be supervised, semi-supervised or unsupervised.\n",
    "\n",
    "Deep learning architectures such as deep neural networks, deep belief networks, recurrent neural networks and convolutional neural networks have been applied to fields including computer vision, speech recognition, natural language processing, audio recognition, social network filtering, machine translation, bioinformatics, drug design, medical image analysis, material inspection and board game programs, where they have produced results comparable to and in some cases superior to human experts.\n",
    "\n",
    "Artificial Neural Networks (ANNs) were inspired by information processing and distributed communication nodes in biological systems. ANNs have various differences from biological brains. Specifically, neural networks tend to be static and symbolic, while the biological brain of most living organisms is dynamic (plastic) and analog."
   ]
  },
  {
   "cell_type": "markdown",
   "metadata": {},
   "source": [
    "## Resources\n",
    "\n",
    "### Video\n",
    "https://www.youtube.com/watch?v=aircAruvnKk \n",
    "\n",
    "### Playground\n",
    "https://playground.tensorflow.org/\n",
    "\n",
    "### Visualization\n",
    "http://scs.ryerson.ca/~aharley/vis/"
   ]
  },
  {
   "cell_type": "code",
   "execution_count": 1,
   "metadata": {},
   "outputs": [],
   "source": [
    "import numpy as np\n",
    "import pandas as pd\n",
    "import matplotlib.pyplot as plt\n",
    "%matplotlib inline\n",
    "\n",
    "import tensorflow as tf\n",
    "from tensorflow import keras\n",
    "from tensorflow.keras.datasets import mnist, fashion_mnist\n",
    "from tensorflow.keras.layers import Dense, Flatten\n",
    "from tensorflow.keras.models import Sequential"
   ]
  },
  {
   "cell_type": "markdown",
   "metadata": {},
   "source": [
    "### Load data"
   ]
  },
  {
   "cell_type": "code",
   "execution_count": 2,
   "metadata": {},
   "outputs": [],
   "source": [
    "(X_train_full, y_train_full), (X_test_full, y_test) = fashion_mnist.load_data()"
   ]
  },
  {
   "cell_type": "markdown",
   "metadata": {},
   "source": [
    "### Normalize data"
   ]
  },
  {
   "cell_type": "code",
   "execution_count": 3,
   "metadata": {},
   "outputs": [],
   "source": [
    "X_valid = X_train_full[:10000] / 255\n",
    "X_train = X_train_full[10000:] / 255\n",
    "\n",
    "y_valid = y_train_full[:10000]\n",
    "y_train = y_train_full[10000:]\n",
    "\n",
    "X_test = X_test_full / 255"
   ]
  },
  {
   "cell_type": "code",
   "execution_count": 4,
   "metadata": {},
   "outputs": [
    {
     "data": {
      "text/plain": [
       "(50000, 28, 28)"
      ]
     },
     "execution_count": 4,
     "metadata": {},
     "output_type": "execute_result"
    }
   ],
   "source": [
    "X_train.shape"
   ]
  },
  {
   "cell_type": "code",
   "execution_count": 5,
   "metadata": {},
   "outputs": [
    {
     "data": {
      "text/plain": [
       "(10000, 28, 28)"
      ]
     },
     "execution_count": 5,
     "metadata": {},
     "output_type": "execute_result"
    }
   ],
   "source": [
    "X_valid.shape"
   ]
  },
  {
   "cell_type": "code",
   "execution_count": 6,
   "metadata": {},
   "outputs": [
    {
     "data": {
      "text/plain": [
       "(50000,)"
      ]
     },
     "execution_count": 6,
     "metadata": {},
     "output_type": "execute_result"
    }
   ],
   "source": [
    "y_train.shape"
   ]
  },
  {
   "cell_type": "markdown",
   "metadata": {},
   "source": [
    "### Visualize data"
   ]
  },
  {
   "cell_type": "code",
   "execution_count": 7,
   "metadata": {},
   "outputs": [
    {
     "data": {
      "image/png": "[encoded data removed]",
      "text/plain": [
       "<Figure size 432x288 with 1 Axes>"
      ]
     },
     "metadata": {
      "needs_background": "light"
     },
     "output_type": "display_data"
    }
   ],
   "source": [
    "plt.imshow(X_train_full[0], cmap='gray_r');"
   ]
  },
  {
   "cell_type": "code",
   "execution_count": 8,
   "metadata": {},
   "outputs": [
    {
     "data": {
      "text/plain": [
       "['tshirt-top',\n",
       " 'trouser',\n",
       " 'pullover',\n",
       " 'dress',\n",
       " 'coat',\n",
       " 'sandal',\n",
       " 'shirt',\n",
       " 'sneaker',\n",
       " 'bag',\n",
       " 'ankle-boot']"
      ]
     },
     "execution_count": 8,
     "metadata": {},
     "output_type": "execute_result"
    }
   ],
   "source": [
    "class_names = 'tshirt-top trouser pullover dress coat sandal shirt sneaker bag ankle-boot'.split()\n",
    "class_names"
   ]
  },
  {
   "cell_type": "code",
   "execution_count": 9,
   "metadata": {},
   "outputs": [
    {
     "data": {
      "text/plain": [
       "'ankle-boot'"
      ]
     },
     "execution_count": 9,
     "metadata": {},
     "output_type": "execute_result"
    }
   ],
   "source": [
    "class_names[y_train_full[0]]"
   ]
  },
  {
   "cell_type": "markdown",
   "metadata": {},
   "source": [
    "## Baseline model\n",
    "\n",
    "### Exercise\n",
    "- Train a logistic regression model on X_train, y_train, X_test, y_test\n",
    "- Get the accuracy score"
   ]
  },
  {
   "cell_type": "code",
   "execution_count": 10,
   "metadata": {},
   "outputs": [
    {
     "name": "stderr",
     "output_type": "stream",
     "text": [
      "/home/vinny/miniconda3/lib/python3.7/site-packages/sklearn/linear_model/logistic.py:433: FutureWarning: Default solver will be changed to 'lbfgs' in 0.22. Specify a solver to silence this warning.\n",
      "  FutureWarning)\n",
      "/home/vinny/miniconda3/lib/python3.7/site-packages/sklearn/linear_model/logistic.py:460: FutureWarning: Default multi_class will be changed to 'auto' in 0.22. Specify the multi_class option to silence this warning.\n",
      "  \"this warning.\", FutureWarning)\n"
     ]
    },
    {
     "data": {
      "text/plain": [
       "0.8416"
      ]
     },
     "execution_count": 10,
     "metadata": {},
     "output_type": "execute_result"
    }
   ],
   "source": [
    "from sklearn.linear_model import LogisticRegression\n",
    "\n",
    "lr = LogisticRegression()\n",
    "lr.fit(X_train.reshape(50000, -1), y_train)\n",
    "\n",
    "lr.score(X_test.reshape(10000, -1), y_test)"
   ]
  },
  {
   "cell_type": "markdown",
   "metadata": {},
   "source": [
    "## Neural Network with Keras\n",
    "\n",
    "Keras is a high-level neural networks API, written in Python and capable of running on top of TensorFlow, CNTK, or Theano. It was developed with a focus on enabling fast experimentation. Being able to go from idea to result with the least possible delay is key to doing good research.\n",
    "\n",
    "- Allows for easy and fast prototyping (through user friendliness, modularity, and extensibility).\n",
    "- Supports both convolutional networks and recurrent networks, as well as combinations of the two.\n",
    "- Runs seamlessly on CPU and GPU."
   ]
  },
  {
   "cell_type": "markdown",
   "metadata": {},
   "source": [
    "### Define architecture"
   ]
  },
  {
   "cell_type": "code",
   "execution_count": 11,
   "metadata": {},
   "outputs": [],
   "source": [
    "model = Sequential() \n",
    "model.add(Flatten(input_shape=[28, 28]))\n",
    "model.add(Dense(200, activation='relu'))\n",
    "model.add(Dense(200, activation='relu'))\n",
    "model.add(Dense(10, activation='softmax'))"
   ]
  },
  {
   "cell_type": "code",
   "execution_count": 12,
   "metadata": {},
   "outputs": [
    {
     "name": "stdout",
     "output_type": "stream",
     "text": [
      "Model: \"sequential\"\n",
      "_________________________________________________________________\n",
      "Layer (type)                 Output Shape              Param #   \n",
      "=================================================================\n",
      "flatten (Flatten)            (None, 784)               0         \n",
      "_________________________________________________________________\n",
      "dense (Dense)                (None, 200)               157000    \n",
      "_________________________________________________________________\n",
      "dense_1 (Dense)              (None, 200)               40200     \n",
      "_________________________________________________________________\n",
      "dense_2 (Dense)              (None, 10)                2010      \n",
      "=================================================================\n",
      "Total params: 199,210\n",
      "Trainable params: 199,210\n",
      "Non-trainable params: 0\n",
      "_________________________________________________________________\n"
     ]
    }
   ],
   "source": [
    "model.summary()"
   ]
  },
  {
   "cell_type": "markdown",
   "metadata": {},
   "source": [
    "### Configure model"
   ]
  },
  {
   "cell_type": "code",
   "execution_count": 13,
   "metadata": {},
   "outputs": [],
   "source": [
    "model.compile(loss='sparse_categorical_crossentropy',\n",
    "              optimizer='sgd',\n",
    "              metrics=['accuracy'])"
   ]
  },
  {
   "cell_type": "markdown",
   "metadata": {},
   "source": [
    "### Train model"
   ]
  },
  {
   "cell_type": "code",
   "execution_count": 14,
   "metadata": {
    "scrolled": true
   },
   "outputs": [
    {
     "name": "stderr",
     "output_type": "stream",
     "text": [
      "WARNING: Logging before flag parsing goes to stderr.\n",
      "W0912 23:55:46.453450 140355999782656 deprecation.py:323] From /home/vinny/miniconda3/lib/python3.7/site-packages/tensorflow/python/ops/math_grad.py:1250: add_dispatch_support.<locals>.wrapper (from tensorflow.python.ops.array_ops) is deprecated and will be removed in a future version.\n",
      "Instructions for updating:\n",
      "Use tf.where in 2.0, which has the same broadcast rule as np.where\n"
     ]
    },
    {
     "name": "stdout",
     "output_type": "stream",
     "text": [
      "Train on 50000 samples, validate on 10000 samples\n",
      "Epoch 1/30\n",
      "50000/50000 [==============================] - 3s 60us/sample - loss: 1.1301 - accuracy: 0.6666 - val_loss: 0.7642 - val_accuracy: 0.7429\n",
      "Epoch 2/30\n",
      "50000/50000 [==============================] - 3s 51us/sample - loss: 0.6815 - accuracy: 0.7758 - val_loss: 0.6283 - val_accuracy: 0.7923\n",
      "Epoch 3/30\n",
      "50000/50000 [==============================] - 3s 57us/sample - loss: 0.5897 - accuracy: 0.8027 - val_loss: 0.5673 - val_accuracy: 0.8062\n",
      "Epoch 4/30\n",
      "50000/50000 [==============================] - 3s 55us/sample - loss: 0.5405 - accuracy: 0.8157 - val_loss: 0.5333 - val_accuracy: 0.8158\n",
      "Epoch 5/30\n",
      "50000/50000 [==============================] - 3s 53us/sample - loss: 0.5109 - accuracy: 0.8242 - val_loss: 0.5099 - val_accuracy: 0.8246\n",
      "Epoch 6/30\n",
      "50000/50000 [==============================] - 2s 48us/sample - loss: 0.4894 - accuracy: 0.8299 - val_loss: 0.4835 - val_accuracy: 0.8334\n",
      "Epoch 7/30\n",
      "50000/50000 [==============================] - 2s 47us/sample - loss: 0.4737 - accuracy: 0.8358 - val_loss: 0.4793 - val_accuracy: 0.8304\n",
      "Epoch 8/30\n",
      "50000/50000 [==============================] - 2s 49us/sample - loss: 0.4595 - accuracy: 0.8400 - val_loss: 0.4589 - val_accuracy: 0.8415\n",
      "Epoch 9/30\n",
      "50000/50000 [==============================] - 3s 54us/sample - loss: 0.4503 - accuracy: 0.8425 - val_loss: 0.4558 - val_accuracy: 0.8427\n",
      "Epoch 10/30\n",
      "50000/50000 [==============================] - 3s 51us/sample - loss: 0.4400 - accuracy: 0.8459 - val_loss: 0.4471 - val_accuracy: 0.8463\n",
      "Epoch 11/30\n",
      "50000/50000 [==============================] - 3s 51us/sample - loss: 0.4318 - accuracy: 0.8504 - val_loss: 0.4413 - val_accuracy: 0.8438\n",
      "Epoch 12/30\n",
      "50000/50000 [==============================] - 3s 51us/sample - loss: 0.4254 - accuracy: 0.8520 - val_loss: 0.4421 - val_accuracy: 0.8491\n",
      "Epoch 13/30\n",
      "50000/50000 [==============================] - 3s 54us/sample - loss: 0.4185 - accuracy: 0.8539 - val_loss: 0.4208 - val_accuracy: 0.8553\n",
      "Epoch 14/30\n",
      "50000/50000 [==============================] - 3s 52us/sample - loss: 0.4135 - accuracy: 0.8557 - val_loss: 0.4220 - val_accuracy: 0.8537\n",
      "Epoch 15/30\n",
      "50000/50000 [==============================] - 2s 49us/sample - loss: 0.4084 - accuracy: 0.8576 - val_loss: 0.4203 - val_accuracy: 0.8513\n",
      "Epoch 16/30\n",
      "50000/50000 [==============================] - 2s 48us/sample - loss: 0.4021 - accuracy: 0.8594 - val_loss: 0.4072 - val_accuracy: 0.8583\n",
      "Epoch 17/30\n",
      "50000/50000 [==============================] - 2s 49us/sample - loss: 0.3971 - accuracy: 0.8613 - val_loss: 0.4139 - val_accuracy: 0.8579\n",
      "Epoch 18/30\n",
      "50000/50000 [==============================] - 3s 54us/sample - loss: 0.3921 - accuracy: 0.8634 - val_loss: 0.4095 - val_accuracy: 0.8561\n",
      "Epoch 19/30\n",
      "50000/50000 [==============================] - 3s 51us/sample - loss: 0.3883 - accuracy: 0.8647 - val_loss: 0.4264 - val_accuracy: 0.8498\n",
      "Epoch 20/30\n",
      "50000/50000 [==============================] - 3s 50us/sample - loss: 0.3850 - accuracy: 0.8657 - val_loss: 0.4192 - val_accuracy: 0.8545\n",
      "Epoch 21/30\n",
      "50000/50000 [==============================] - 3s 52us/sample - loss: 0.3807 - accuracy: 0.8672 - val_loss: 0.3969 - val_accuracy: 0.8616\n",
      "Epoch 22/30\n",
      "50000/50000 [==============================] - 3s 54us/sample - loss: 0.3778 - accuracy: 0.8677 - val_loss: 0.3917 - val_accuracy: 0.8631\n",
      "Epoch 23/30\n",
      "50000/50000 [==============================] - 3s 57us/sample - loss: 0.3741 - accuracy: 0.8698 - val_loss: 0.3880 - val_accuracy: 0.8653\n",
      "Epoch 24/30\n",
      "50000/50000 [==============================] - 3s 54us/sample - loss: 0.3704 - accuracy: 0.8707 - val_loss: 0.3863 - val_accuracy: 0.8660\n",
      "Epoch 25/30\n",
      "50000/50000 [==============================] - 3s 51us/sample - loss: 0.3667 - accuracy: 0.8719 - val_loss: 0.3937 - val_accuracy: 0.8585\n",
      "Epoch 26/30\n",
      "50000/50000 [==============================] - 3s 51us/sample - loss: 0.3646 - accuracy: 0.8734 - val_loss: 0.3849 - val_accuracy: 0.8635\n",
      "Epoch 27/30\n",
      "50000/50000 [==============================] - 3s 54us/sample - loss: 0.3609 - accuracy: 0.8732 - val_loss: 0.3957 - val_accuracy: 0.8604\n",
      "Epoch 28/30\n",
      "50000/50000 [==============================] - 3s 52us/sample - loss: 0.3570 - accuracy: 0.8749 - val_loss: 0.3776 - val_accuracy: 0.8682\n",
      "Epoch 29/30\n",
      "50000/50000 [==============================] - 3s 52us/sample - loss: 0.3555 - accuracy: 0.8755 - val_loss: 0.3893 - val_accuracy: 0.8633\n",
      "Epoch 30/30\n",
      "50000/50000 [==============================] - 3s 56us/sample - loss: 0.3521 - accuracy: 0.8771 - val_loss: 0.3875 - val_accuracy: 0.8642\n",
      "CPU times: user 1min 32s, sys: 3.75 s, total: 1min 35s\n",
      "Wall time: 1min 18s\n"
     ]
    }
   ],
   "source": [
    "%%time\n",
    "history = model.fit(X_train, y_train, epochs=30, validation_data=(X_valid, y_valid), batch_size=128)"
   ]
  },
  {
   "cell_type": "markdown",
   "metadata": {},
   "source": [
    "### Plot training"
   ]
  },
  {
   "cell_type": "code",
   "execution_count": 15,
   "metadata": {},
   "outputs": [
    {
     "data": {
      "image/png": "[encoded data removed]",
      "text/plain": [
       "<Figure size 432x288 with 1 Axes>"
      ]
     },
     "metadata": {
      "needs_background": "light"
     },
     "output_type": "display_data"
    }
   ],
   "source": [
    "pd.DataFrame(history.history).plot();"
   ]
  },
  {
   "cell_type": "markdown",
   "metadata": {},
   "source": [
    "### Make predictions"
   ]
  },
  {
   "cell_type": "code",
   "execution_count": 16,
   "metadata": {},
   "outputs": [
    {
     "name": "stdout",
     "output_type": "stream",
     "text": [
      "10000/10000 [==============================] - 1s 57us/sample - loss: 0.4083 - accuracy: 0.8547\n"
     ]
    },
    {
     "data": {
      "text/plain": [
       "[0.4082799252986908, 0.8547]"
      ]
     },
     "execution_count": 16,
     "metadata": {},
     "output_type": "execute_result"
    }
   ],
   "source": [
    "model.evaluate(X_test, y_test)"
   ]
  },
  {
   "cell_type": "markdown",
   "metadata": {},
   "source": [
    "### Exercise\n",
    "\n",
    "- Try training your own neural network using the same data on Google Colab:\n",
    "    - https://colab.research.google.com/\n",
    "- Enable GPU and compare training time to your local version\n",
    "- Try changing the architecture and parameters to get a better score"
   ]
  },
  {
   "cell_type": "code",
   "execution_count": null,
   "metadata": {},
   "outputs": [],
   "source": []
  },
  {
   "cell_type": "markdown",
   "metadata": {},
   "source": [
    "## Feedback\n",
    "\n",
    "<img src=\"data/feedback.png\" width=\"70%\" />\n",
    "\n",
    "Link: https://bit.ly/CommunitechSurvey"
   ]
  },
  {
   "cell_type": "code",
   "execution_count": null,
   "metadata": {},
   "outputs": [],
   "source": []
  }
 ],
 "metadata": {
  "kernelspec": {
   "display_name": "Python 3",
   "language": "python",
   "name": "python3"
  },
  "language_info": {
   "codemirror_mode": {
    "name": "ipython",
    "version": 3
   },
   "file_extension": ".py",
   "mimetype": "text/x-python",
   "name": "python",
   "nbconvert_exporter": "python",
   "pygments_lexer": "ipython3",
   "version": "3.7.2"
  }
 },
 "nbformat": 4,
 "nbformat_minor": 2
}
