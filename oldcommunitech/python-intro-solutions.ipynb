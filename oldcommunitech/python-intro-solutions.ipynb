{
 "cells": [
  {
   "cell_type": "markdown",
   "metadata": {
    "colab_type": "text",
    "id": "0F8NJbT6dWcX"
   },
   "source": [
    "<center>\n",
    "    <img src=\"https://img.evbuc.com/https%3A%2F%2Fcdn.evbuc.com%2Fimages%2F53691183%2F257316737287%2F1%2Foriginal.jpg?w=800&auto=compress&rect=0%2C0%2C2160%2C1080&s=74711a2a8c51eb0f3bd59e5d482fdc07\" width=\"50%\">\n",
    "</center>\n",
    "\n",
    "----------\n",
    "\n",
    "<h1 align=\"center\"> Introduction to Python </h1>\n",
    "<br>\n",
    "<center align=\"left\"> <font size='4'>  Developed by: </font> <img src=\"https://s3.amazonaws.com/weclouddata/images/logos/wcd_logo.png\" width=\"20%\">\n",
    "</center>\n",
    "<br>\n",
    "<center align=\"left\"> <font size='4' color='#FF5713'> Accelerating your data science career! </font></center>\n",
    "<br>\n",
    "\n",
    "---------"
   ]
  },
  {
   "cell_type": "markdown",
   "metadata": {
    "colab_type": "text",
    "id": "B58QyYjafXtU"
   },
   "source": [
    "# Python Basics"
   ]
  },
  {
   "cell_type": "markdown",
   "metadata": {
    "colab_type": "text",
    "id": "hEYpjKHkgMG2"
   },
   "source": [
    "## Printing\n",
    "\n",
    "To show the output of some code in Python, we can use the print function\n"
   ]
  },
  {
   "cell_type": "code",
   "execution_count": 2,
   "metadata": {
    "colab": {
     "base_uri": "https://localhost:8080/",
     "height": 35
    },
    "colab_type": "code",
    "id": "Y1tIYRa1fum0",
    "outputId": "f8984542-9ece-4c00-e8c2-01307449b4c9"
   },
   "outputs": [
    {
     "name": "stdout",
     "output_type": "stream",
     "text": [
      "Hello world!\n"
     ]
    }
   ],
   "source": [
    "print('Hello world!')"
   ]
  },
  {
   "cell_type": "markdown",
   "metadata": {
    "colab_type": "text",
    "id": "OUSdpk5milDP"
   },
   "source": [
    "Jupyter notebooks/Google colab will automatically print the last line a cell"
   ]
  },
  {
   "cell_type": "code",
   "execution_count": 6,
   "metadata": {
    "colab": {
     "base_uri": "https://localhost:8080/",
     "height": 35
    },
    "colab_type": "code",
    "id": "TUdBhyEKicrQ",
    "outputId": "913598a1-3399-4c51-e665-5892c8e01eee"
   },
   "outputs": [
    {
     "data": {
      "text/plain": [
       "'This is line 2'"
      ]
     },
     "execution_count": 6,
     "metadata": {
      "tags": []
     },
     "output_type": "execute_result"
    }
   ],
   "source": [
    "'This is line 1'\n",
    "'This is line 2'"
   ]
  },
  {
   "cell_type": "markdown",
   "metadata": {
    "colab_type": "text",
    "id": "whGoks5hk0dl"
   },
   "source": [
    "## Quotations in Python\n",
    "\n",
    "Python uses single ('), double (\") and triple (''' or \"\"\") quotes to denote strings, as long as the same type of quote starts and ends the string. "
   ]
  },
  {
   "cell_type": "code",
   "execution_count": 7,
   "metadata": {
    "colab": {
     "base_uri": "https://localhost:8080/",
     "height": 121
    },
    "colab_type": "code",
    "id": "3uRJIlBykZmn",
    "outputId": "b8479003-c6f3-4e74-b52f-d70bdcf8ac8e"
   },
   "outputs": [
    {
     "name": "stdout",
     "output_type": "stream",
     "text": [
      "This is a string\n",
      "This is also a string\n",
      "\n",
      "This is a multiline string\n",
      "It has...multiple lines\n",
      "\n"
     ]
    }
   ],
   "source": [
    "print('This is a string')\n",
    "\n",
    "print(\"This is also a string\")\n",
    "\n",
    "print('''\n",
    "This is a multiline string\n",
    "It has...multiple lines\n",
    "''')"
   ]
  },
  {
   "cell_type": "markdown",
   "metadata": {
    "colab_type": "text",
    "id": "F8V-I2-BoA0h"
   },
   "source": [
    "## Comments\n",
    "\n",
    "The hash character (#) can be used for commenting. Anything written after it will be ignored by Python"
   ]
  },
  {
   "cell_type": "code",
   "execution_count": 9,
   "metadata": {
    "colab": {
     "base_uri": "https://localhost:8080/",
     "height": 35
    },
    "colab_type": "code",
    "id": "CPpOFTalmZzG",
    "outputId": "29d5a539-7eae-4ef5-80de-1eefc98beb6f"
   },
   "outputs": [
    {
     "data": {
      "text/plain": [
       "'This will be printed'"
      ]
     },
     "execution_count": 9,
     "metadata": {
      "tags": []
     },
     "output_type": "execute_result"
    }
   ],
   "source": [
    "# This is a comment and will be ignored\n",
    "\n",
    "'This will be printed'"
   ]
  },
  {
   "cell_type": "markdown",
   "metadata": {
    "colab_type": "text",
    "id": "6pATr1vCo6tc"
   },
   "source": [
    "## Arithmetic operators\n",
    "\n",
    "Python has many built in mathematical operators. Some of these include:\n",
    "\n",
    "| Operators|   Meaning|\n",
    "| ---------|:--------:|\n",
    "|         +|       Sum|\n",
    "|         -|Difference|\n",
    "|        \\*|   Product|\n",
    "|         /|  Division|\n",
    "|         %|  Reminder|\n",
    "|      \\*\\*|     Power|\n",
    "|//|Floor Divison|"
   ]
  },
  {
   "cell_type": "code",
   "execution_count": 11,
   "metadata": {
    "colab": {
     "base_uri": "https://localhost:8080/",
     "height": 35
    },
    "colab_type": "code",
    "id": "PQHZclBdonrv",
    "outputId": "c86611ef-3a5e-4206-b1c9-3e0b664e5336"
   },
   "outputs": [
    {
     "data": {
      "text/plain": [
       "8"
      ]
     },
     "execution_count": 11,
     "metadata": {
      "tags": []
     },
     "output_type": "execute_result"
    }
   ],
   "source": [
    "3 + 5"
   ]
  },
  {
   "cell_type": "code",
   "execution_count": 12,
   "metadata": {
    "colab": {
     "base_uri": "https://localhost:8080/",
     "height": 35
    },
    "colab_type": "code",
    "id": "eqelECTdpMAd",
    "outputId": "f0743337-ac60-4b6c-b1bb-b84959b0226d"
   },
   "outputs": [
    {
     "data": {
      "text/plain": [
       "15"
      ]
     },
     "execution_count": 12,
     "metadata": {
      "tags": []
     },
     "output_type": "execute_result"
    }
   ],
   "source": [
    "3 * 5"
   ]
  },
  {
   "cell_type": "code",
   "execution_count": 14,
   "metadata": {
    "colab": {
     "base_uri": "https://localhost:8080/",
     "height": 35
    },
    "colab_type": "code",
    "id": "-gWzUDM8pSQg",
    "outputId": "a95a0622-613b-4e35-e84e-c77c1cad657a"
   },
   "outputs": [
    {
     "data": {
      "text/plain": [
       "243"
      ]
     },
     "execution_count": 14,
     "metadata": {
      "tags": []
     },
     "output_type": "execute_result"
    }
   ],
   "source": [
    "3**5\n"
   ]
  },
  {
   "cell_type": "markdown",
   "metadata": {
    "colab_type": "text",
    "id": "agbL-0ICpe1F"
   },
   "source": [
    "## Comparison operators\n",
    "\n",
    "Comparison operators are used to compare values. It either returns Booleans (True or False) according to the condition.\n",
    "\n",
    "| Operators|   Meaning|\n",
    "| ---------|:--------:|\n",
    "|         >|       Greater that|\n",
    "|         <|Less that|\n",
    "|        ==|   Equal to|\n",
    "|        !=|  Not equal to|\n",
    "|        >=|  Greater than or equal to|\n",
    "|        <=|  Less than or equal to|"
   ]
  },
  {
   "cell_type": "code",
   "execution_count": 16,
   "metadata": {
    "colab": {
     "base_uri": "https://localhost:8080/",
     "height": 35
    },
    "colab_type": "code",
    "id": "IbbrrMiVpdwV",
    "outputId": "a7d57d9a-174e-4648-ad36-dad0b091df9c"
   },
   "outputs": [
    {
     "data": {
      "text/plain": [
       "True"
      ]
     },
     "execution_count": 16,
     "metadata": {
      "tags": []
     },
     "output_type": "execute_result"
    }
   ],
   "source": [
    "10 > 5"
   ]
  },
  {
   "cell_type": "code",
   "execution_count": 17,
   "metadata": {
    "colab": {
     "base_uri": "https://localhost:8080/",
     "height": 35
    },
    "colab_type": "code",
    "id": "4od93kC2rLZQ",
    "outputId": "168d55fa-c518-4c62-c470-4434cff935c2"
   },
   "outputs": [
    {
     "data": {
      "text/plain": [
       "False"
      ]
     },
     "execution_count": 17,
     "metadata": {
      "tags": []
     },
     "output_type": "execute_result"
    }
   ],
   "source": [
    "10 < 5"
   ]
  },
  {
   "cell_type": "code",
   "execution_count": 19,
   "metadata": {
    "colab": {
     "base_uri": "https://localhost:8080/",
     "height": 35
    },
    "colab_type": "code",
    "id": "coHb5c8ErMc9",
    "outputId": "09c8fa83-3f8c-4edd-838b-3f0990ce056c"
   },
   "outputs": [
    {
     "data": {
      "text/plain": [
       "False"
      ]
     },
     "execution_count": 19,
     "metadata": {
      "tags": []
     },
     "output_type": "execute_result"
    }
   ],
   "source": [
    "10 == 5"
   ]
  },
  {
   "cell_type": "code",
   "execution_count": 20,
   "metadata": {
    "colab": {
     "base_uri": "https://localhost:8080/",
     "height": 35
    },
    "colab_type": "code",
    "id": "_y2tLgW8rTdK",
    "outputId": "090afbd3-eabe-47cc-a4ba-2c5bcaf8538f"
   },
   "outputs": [
    {
     "data": {
      "text/plain": [
       "True"
      ]
     },
     "execution_count": 20,
     "metadata": {
      "tags": []
     },
     "output_type": "execute_result"
    }
   ],
   "source": [
    "10 != 5"
   ]
  },
  {
   "cell_type": "markdown",
   "metadata": {
    "colab_type": "text",
    "id": "xttM-Np5rWAu"
   },
   "source": [
    "## Logical operators\n",
    "\n",
    "Logical operators are the **and, or, not ** operators.\n",
    "\n",
    "| A|   B| A and B| A or B|\n",
    "|-----|:----:|-----|:----:|\n",
    "|True|True|True|True|\n",
    "|False|False|False|False|\n",
    "|True|False|False|True|\n",
    "|False|True|False|True|"
   ]
  },
  {
   "cell_type": "code",
   "execution_count": 22,
   "metadata": {
    "colab": {
     "base_uri": "https://localhost:8080/",
     "height": 35
    },
    "colab_type": "code",
    "id": "rFVapW-yrUx4",
    "outputId": "073a0f04-fbc9-4237-8a50-67f73e855f3a"
   },
   "outputs": [
    {
     "data": {
      "text/plain": [
       "True"
      ]
     },
     "execution_count": 22,
     "metadata": {
      "tags": []
     },
     "output_type": "execute_result"
    }
   ],
   "source": [
    "True and False"
   ]
  },
  {
   "cell_type": "code",
   "execution_count": 27,
   "metadata": {
    "colab": {
     "base_uri": "https://localhost:8080/",
     "height": 35
    },
    "colab_type": "code",
    "id": "FTiZDMkrsNcQ",
    "outputId": "c902ae50-fd51-4ebb-a532-b9292c75f349"
   },
   "outputs": [
    {
     "data": {
      "text/plain": [
       "True"
      ]
     },
     "execution_count": 27,
     "metadata": {
      "tags": []
     },
     "output_type": "execute_result"
    }
   ],
   "source": [
    "5 > 1"
   ]
  },
  {
   "cell_type": "code",
   "execution_count": 28,
   "metadata": {
    "colab": {
     "base_uri": "https://localhost:8080/",
     "height": 35
    },
    "colab_type": "code",
    "id": "ixs5-TChsXPc",
    "outputId": "f17b395d-30ba-46c4-c16c-2adf85227892"
   },
   "outputs": [
    {
     "data": {
      "text/plain": [
       "False"
      ]
     },
     "execution_count": 28,
     "metadata": {
      "tags": []
     },
     "output_type": "execute_result"
    }
   ],
   "source": [
    "not (5 > 1)"
   ]
  },
  {
   "cell_type": "code",
   "execution_count": 26,
   "metadata": {
    "colab": {
     "base_uri": "https://localhost:8080/",
     "height": 35
    },
    "colab_type": "code",
    "id": "I-_M2NsVr-zA",
    "outputId": "4fb1d719-e82f-45d8-8323-9e423ce13685"
   },
   "outputs": [
    {
     "data": {
      "text/plain": [
       "True"
      ]
     },
     "execution_count": 26,
     "metadata": {
      "tags": []
     },
     "output_type": "execute_result"
    }
   ],
   "source": [
    "(5 > 1) and (5 < 10)"
   ]
  },
  {
   "cell_type": "code",
   "execution_count": 0,
   "metadata": {
    "colab": {},
    "colab_type": "code",
    "id": "t0JR8p3Gse9H"
   },
   "outputs": [],
   "source": []
  },
  {
   "cell_type": "markdown",
   "metadata": {
    "colab_type": "text",
    "id": "uDd3FSLEsj4G"
   },
   "source": [
    "## Variables\n",
    "\n",
    "Variables store a value, that can be looked at or changed at a later time."
   ]
  },
  {
   "cell_type": "code",
   "execution_count": 37,
   "metadata": {
    "colab": {
     "base_uri": "https://localhost:8080/",
     "height": 35
    },
    "colab_type": "code",
    "id": "jvD5Kqdo7IlS",
    "outputId": "470e098b-bcff-4453-f7c3-324dc0815be5"
   },
   "outputs": [
    {
     "name": "stdout",
     "output_type": "stream",
     "text": [
      "My name is Bob\n"
     ]
    }
   ],
   "source": [
    "name = 'Bob'\n",
    "\n",
    "print('My name is', name)"
   ]
  },
  {
   "cell_type": "code",
   "execution_count": 31,
   "metadata": {
    "colab": {
     "base_uri": "https://localhost:8080/",
     "height": 35
    },
    "colab_type": "code",
    "id": "C3harvbVslxS",
    "outputId": "27ddbacf-f8ba-40e7-975e-13fb6a0d1a36"
   },
   "outputs": [
    {
     "data": {
      "text/plain": [
       "15"
      ]
     },
     "execution_count": 31,
     "metadata": {
      "tags": []
     },
     "output_type": "execute_result"
    }
   ],
   "source": [
    "x = 5\n",
    "\n",
    "y = 10\n",
    "\n",
    "x + y"
   ]
  },
  {
   "cell_type": "markdown",
   "metadata": {
    "colab_type": "text",
    "id": "iJDbugj18QAB"
   },
   "source": [
    "## Exercise\n",
    "\n",
    "Write a program that does the following in order:\n",
    "\n",
    "1. Asks the user to enter a number 'x'\n",
    "2. Asks the user to enter a number 'y'\n",
    "3. Prints the result of  'x' plus 'y'. \n",
    "4. Prints the result of 'x' to the power of 'y'\n",
    "5. Prints if 'x' is greater than or equal to 'y' "
   ]
  },
  {
   "cell_type": "code",
   "execution_count": 39,
   "metadata": {
    "colab": {
     "base_uri": "https://localhost:8080/",
     "height": 104
    },
    "colab_type": "code",
    "id": "mc7qsYcs7Dtf",
    "outputId": "9c5df0ab-3c32-40a8-f5b5-34b5958c1a3d"
   },
   "outputs": [
    {
     "name": "stdout",
     "output_type": "stream",
     "text": [
      "Pick a number: 5\n",
      "Pick another number: 10\n",
      "x + y is: 15\n",
      "x**y is: 9765625\n",
      "x > y is: False\n"
     ]
    }
   ],
   "source": [
    "x = int(input('Pick a number: '))\n",
    "y = int(input('Pick another number: '))\n",
    "\n",
    "######### Your code below #########\n",
    "\n",
    "print('x + y is:', x + y)\n",
    "print('x**y is:', x**y)\n",
    "print('x > y is:', x > y)"
   ]
  },
  {
   "cell_type": "markdown",
   "metadata": {
    "colab_type": "text",
    "id": "IVBntCN--R6D"
   },
   "source": [
    "# Strings\n",
    "\n",
    "Strings in Python are sequence of characters represented in the quotation marks.\n",
    "\n"
   ]
  },
  {
   "cell_type": "code",
   "execution_count": 40,
   "metadata": {
    "colab": {
     "base_uri": "https://localhost:8080/",
     "height": 35
    },
    "colab_type": "code",
    "id": "ovCrSOLA8Euu",
    "outputId": "9fd6f5cb-ee87-4f40-c708-75c35d362b17"
   },
   "outputs": [
    {
     "data": {
      "text/plain": [
       "'This is a string'"
      ]
     },
     "execution_count": 40,
     "metadata": {
      "tags": []
     },
     "output_type": "execute_result"
    }
   ],
   "source": [
    "'This is a string'"
   ]
  },
  {
   "cell_type": "code",
   "execution_count": 66,
   "metadata": {
    "colab": {
     "base_uri": "https://localhost:8080/",
     "height": 35
    },
    "colab_type": "code",
    "id": "jXWPMaPVOBLO",
    "outputId": "718d05af-e666-44e8-c16f-b69e88c447d9"
   },
   "outputs": [
    {
     "data": {
      "text/plain": [
       "str"
      ]
     },
     "execution_count": 66,
     "metadata": {
      "tags": []
     },
     "output_type": "execute_result"
    }
   ],
   "source": [
    "type('This is a string')"
   ]
  },
  {
   "cell_type": "markdown",
   "metadata": {
    "colab_type": "text",
    "id": "fiIizgqtFzK6"
   },
   "source": [
    "## String indexing\n",
    "\n",
    "We can use the square bracket notation to get the character at a certain position or index."
   ]
  },
  {
   "cell_type": "code",
   "execution_count": 49,
   "metadata": {
    "colab": {
     "base_uri": "https://localhost:8080/",
     "height": 35
    },
    "colab_type": "code",
    "id": "9G3_NKRwFxlE",
    "outputId": "74cd061a-ea65-43fe-d046-fca765bd6513"
   },
   "outputs": [
    {
     "data": {
      "text/plain": [
       "'i'"
      ]
     },
     "execution_count": 49,
     "metadata": {
      "tags": []
     },
     "output_type": "execute_result"
    }
   ],
   "source": [
    "my_string = 'This is a string'\n",
    "\n",
    "my_string[5]"
   ]
  },
  {
   "cell_type": "markdown",
   "metadata": {
    "colab_type": "text",
    "id": "7mypXsuwIv5I"
   },
   "source": [
    "Python is zero-indexed."
   ]
  },
  {
   "cell_type": "code",
   "execution_count": 42,
   "metadata": {
    "colab": {
     "base_uri": "https://localhost:8080/",
     "height": 35
    },
    "colab_type": "code",
    "id": "sQXec8dZGWE0",
    "outputId": "63ec5c27-6b33-4f3a-f4ab-be041c83018e"
   },
   "outputs": [
    {
     "data": {
      "text/plain": [
       "'T'"
      ]
     },
     "execution_count": 42,
     "metadata": {
      "tags": []
     },
     "output_type": "execute_result"
    }
   ],
   "source": [
    "my_string[0]"
   ]
  },
  {
   "cell_type": "markdown",
   "metadata": {
    "colab_type": "text",
    "id": "v5ia1qeSGx6a"
   },
   "source": [
    "We can use negative integers to index in reverse.\n",
    "\n"
   ]
  },
  {
   "cell_type": "code",
   "execution_count": 43,
   "metadata": {
    "colab": {
     "base_uri": "https://localhost:8080/",
     "height": 35
    },
    "colab_type": "code",
    "id": "v-rRIAk1Ghrd",
    "outputId": "de9ad72c-b778-4fbd-cccd-2fc53b8fa56b"
   },
   "outputs": [
    {
     "data": {
      "text/plain": [
       "'g'"
      ]
     },
     "execution_count": 43,
     "metadata": {
      "tags": []
     },
     "output_type": "execute_result"
    }
   ],
   "source": [
    "my_string[-1]"
   ]
  },
  {
   "cell_type": "markdown",
   "metadata": {
    "colab_type": "text",
    "id": "YXIltq_rHrKt"
   },
   "source": [
    "## Slicing\n",
    "\n",
    "We can also add more parameters in the square brackets to select ranges of characters.\n",
    "> [start:stop:step]"
   ]
  },
  {
   "cell_type": "markdown",
   "metadata": {
    "colab_type": "text",
    "id": "s8hR_lxhIzNy"
   },
   "source": [
    "Notice the first number is inclusive and the second number is exclusive."
   ]
  },
  {
   "cell_type": "code",
   "execution_count": 53,
   "metadata": {
    "colab": {
     "base_uri": "https://localhost:8080/",
     "height": 35
    },
    "colab_type": "code",
    "id": "8o1ULO6DHnVp",
    "outputId": "6c00f385-c9ec-4ae4-8f2b-e2ef871928d4"
   },
   "outputs": [
    {
     "data": {
      "text/plain": [
       "'is a'"
      ]
     },
     "execution_count": 53,
     "metadata": {
      "tags": []
     },
     "output_type": "execute_result"
    }
   ],
   "source": [
    "my_string[5:9]"
   ]
  },
  {
   "cell_type": "markdown",
   "metadata": {
    "colab_type": "text",
    "id": "QJXTWFHkJWJ-"
   },
   "source": [
    "If we set the step size to 2, it will slice every other character."
   ]
  },
  {
   "cell_type": "code",
   "execution_count": 60,
   "metadata": {
    "colab": {
     "base_uri": "https://localhost:8080/",
     "height": 35
    },
    "colab_type": "code",
    "id": "FVaSDqtzIeO7",
    "outputId": "41312a1f-d76c-4362-a5f9-5d249e95617f"
   },
   "outputs": [
    {
     "data": {
      "text/plain": [
       "'Ti sasrn'"
      ]
     },
     "execution_count": 60,
     "metadata": {
      "tags": []
     },
     "output_type": "execute_result"
    }
   ],
   "source": [
    "my_string[0:16:2]"
   ]
  },
  {
   "cell_type": "markdown",
   "metadata": {
    "colab_type": "text",
    "id": "qpV3HQnuKRBz"
   },
   "source": [
    "## String methods\n",
    "\n",
    "Python has several built-in methods for manipulating strings. Some examples include:\n",
    "\n",
    "- str.lower()\n",
    "- str.upper()\n",
    "- str.capitalize()\n",
    "- str.strip()\n",
    "- str.startwith()\n",
    "- str.endswith()\n",
    "- str.replace()\n",
    "- str.split()\n",
    "- str.join()\n",
    "\n",
    "For more information, visit: https://docs.python.org/3.6/library/string.html"
   ]
  },
  {
   "cell_type": "markdown",
   "metadata": {
    "colab_type": "text",
    "id": "TRZZpDrXQEvB"
   },
   "source": [
    "**what is the dot?**\n",
    "- strings are Python objects, \n",
    "- everything in Python is an object\n",
    "- objects have methods and functions\n",
    "- methods have the notiation object_name.do_something()\n",
    "- functions have the notation do_something(input)"
   ]
  },
  {
   "cell_type": "code",
   "execution_count": 61,
   "metadata": {
    "colab": {
     "base_uri": "https://localhost:8080/",
     "height": 35
    },
    "colab_type": "code",
    "id": "l7yTZiKYJjAc",
    "outputId": "8e87153a-883c-42cb-cb68-43498be940b1"
   },
   "outputs": [
    {
     "data": {
      "text/plain": [
       "'This is a string'"
      ]
     },
     "execution_count": 61,
     "metadata": {
      "tags": []
     },
     "output_type": "execute_result"
    }
   ],
   "source": [
    "my_string"
   ]
  },
  {
   "cell_type": "code",
   "execution_count": 62,
   "metadata": {
    "colab": {
     "base_uri": "https://localhost:8080/",
     "height": 35
    },
    "colab_type": "code",
    "id": "UGG_-cxVL50Z",
    "outputId": "42995da4-70d6-4104-9968-c0354ad1fbc3"
   },
   "outputs": [
    {
     "data": {
      "text/plain": [
       "'THIS IS A STRING'"
      ]
     },
     "execution_count": 62,
     "metadata": {
      "tags": []
     },
     "output_type": "execute_result"
    }
   ],
   "source": [
    "my_string.upper()"
   ]
  },
  {
   "cell_type": "code",
   "execution_count": 63,
   "metadata": {
    "colab": {
     "base_uri": "https://localhost:8080/",
     "height": 35
    },
    "colab_type": "code",
    "id": "1Ti7tvFlL84Q",
    "outputId": "15ec9c7a-d034-4024-f2a5-7fd9568f487d"
   },
   "outputs": [
    {
     "data": {
      "text/plain": [
       "True"
      ]
     },
     "execution_count": 63,
     "metadata": {
      "tags": []
     },
     "output_type": "execute_result"
    }
   ],
   "source": [
    "my_string.startswith('T')"
   ]
  },
  {
   "cell_type": "code",
   "execution_count": 64,
   "metadata": {
    "colab": {
     "base_uri": "https://localhost:8080/",
     "height": 35
    },
    "colab_type": "code",
    "id": "ZW-0rFIkMDKI",
    "outputId": "a4a407d3-1cb6-42a7-9c23-70bbca7164f0"
   },
   "outputs": [
    {
     "data": {
      "text/plain": [
       "['This', 'is', 'a', 'string']"
      ]
     },
     "execution_count": 64,
     "metadata": {
      "tags": []
     },
     "output_type": "execute_result"
    }
   ],
   "source": [
    "my_string.split(' ')"
   ]
  },
  {
   "cell_type": "markdown",
   "metadata": {
    "colab_type": "text",
    "id": "GBoq67AEJ4ft"
   },
   "source": [
    "# Lists\n",
    "\n",
    "* a type of Python data structure\n",
    "* **ordered sequence** of information, accessible by **index**\n",
    "* a list is denoted by **square brackets, []**\n",
    "* a list contains elements that can be of mixed types\n",
    "* list elements can be changed so a list is **mutable**"
   ]
  },
  {
   "cell_type": "code",
   "execution_count": 69,
   "metadata": {
    "colab": {
     "base_uri": "https://localhost:8080/",
     "height": 35
    },
    "colab_type": "code",
    "id": "vGZjSdgMN2Yl",
    "outputId": "6b80876f-a79d-42e0-e567-e6ab6bea1c4d"
   },
   "outputs": [
    {
     "data": {
      "text/plain": [
       "['a', 99, 'c', True, 'banana']"
      ]
     },
     "execution_count": 69,
     "metadata": {
      "tags": []
     },
     "output_type": "execute_result"
    }
   ],
   "source": [
    "my_list = ['a', 99, 'c', True, 'banana']\n",
    "\n",
    "my_list"
   ]
  },
  {
   "cell_type": "markdown",
   "metadata": {
    "colab_type": "text",
    "id": "SY7WQSwVO0je"
   },
   "source": [
    "## Indexing/Slicing\n",
    "\n",
    "Similar to strings, we can use the square bracket notation to select elements from a list"
   ]
  },
  {
   "cell_type": "code",
   "execution_count": 70,
   "metadata": {
    "colab": {
     "base_uri": "https://localhost:8080/",
     "height": 35
    },
    "colab_type": "code",
    "id": "mwGBku2vOouW",
    "outputId": "c4beb34b-5e2f-4b2a-8d91-7ab132f8e989"
   },
   "outputs": [
    {
     "data": {
      "text/plain": [
       "99"
      ]
     },
     "execution_count": 70,
     "metadata": {
      "tags": []
     },
     "output_type": "execute_result"
    }
   ],
   "source": [
    "my_list[1]"
   ]
  },
  {
   "cell_type": "code",
   "execution_count": 71,
   "metadata": {
    "colab": {
     "base_uri": "https://localhost:8080/",
     "height": 35
    },
    "colab_type": "code",
    "id": "KMK0PF_uPXng",
    "outputId": "3af43ffa-e81f-4013-e94c-94c676f4e5b6"
   },
   "outputs": [
    {
     "data": {
      "text/plain": [
       "[99, 'c']"
      ]
     },
     "execution_count": 71,
     "metadata": {
      "tags": []
     },
     "output_type": "execute_result"
    }
   ],
   "source": [
    "my_list[1:3]"
   ]
  },
  {
   "cell_type": "markdown",
   "metadata": {
    "colab_type": "text",
    "id": "KsFEnAXnPe_1"
   },
   "source": [
    "## Operations on lists\n",
    "\n"
   ]
  },
  {
   "cell_type": "markdown",
   "metadata": {
    "colab_type": "text",
    "id": "eY3SRzSlRHcU"
   },
   "source": [
    "### Concatenate\n",
    "\n",
    "We can concatenate two lists by using the add operator."
   ]
  },
  {
   "cell_type": "code",
   "execution_count": 74,
   "metadata": {
    "colab": {
     "base_uri": "https://localhost:8080/",
     "height": 35
    },
    "colab_type": "code",
    "id": "MRmekWuLPd6B",
    "outputId": "36885a84-a68f-41d2-9988-550156009756"
   },
   "outputs": [
    {
     "data": {
      "text/plain": [
       "['a', 99, 'c', True, 'banana', 'x', 'y', 'z']"
      ]
     },
     "execution_count": 74,
     "metadata": {
      "tags": []
     },
     "output_type": "execute_result"
    }
   ],
   "source": [
    "my_list + ['x', 'y', 'z']"
   ]
  },
  {
   "cell_type": "markdown",
   "metadata": {
    "colab_type": "text",
    "id": "XLEx11f4R4A5"
   },
   "source": [
    "### Append\n",
    "Similarly, we can add an element to the end of a list using the **append** method"
   ]
  },
  {
   "cell_type": "code",
   "execution_count": 75,
   "metadata": {
    "colab": {
     "base_uri": "https://localhost:8080/",
     "height": 35
    },
    "colab_type": "code",
    "id": "Egqmgd-pSQ3k",
    "outputId": "ee608096-1aaa-47b9-a632-3deed7004a3b"
   },
   "outputs": [
    {
     "data": {
      "text/plain": [
       "['a', 99, 'c', True, 'banana', 'watermelon']"
      ]
     },
     "execution_count": 75,
     "metadata": {
      "tags": []
     },
     "output_type": "execute_result"
    }
   ],
   "source": [
    "my_list.append('watermelon')"
   ]
  },
  {
   "cell_type": "code",
   "execution_count": 76,
   "metadata": {
    "colab": {
     "base_uri": "https://localhost:8080/",
     "height": 35
    },
    "colab_type": "code",
    "id": "XZKWOWgZSzQU",
    "outputId": "b53bc805-99d1-482e-f0c8-1c7ecea2991f"
   },
   "outputs": [
    {
     "data": {
      "text/plain": [
       "['a', 99, 'c', True, 'banana', 'watermelon']"
      ]
     },
     "execution_count": 76,
     "metadata": {
      "tags": []
     },
     "output_type": "execute_result"
    }
   ],
   "source": [
    "my_list"
   ]
  },
  {
   "cell_type": "markdown",
   "metadata": {
    "colab_type": "text",
    "id": "j4ycbSIkTFKe"
   },
   "source": [
    "###  Remove\n",
    "\n",
    "1. delete element at a specific index with **del(L[index])**\n",
    "2. remove element at **end** of list with **L.pop()**, returns the **removed element**\n",
    "3. remove a specific element with **L.remove(element)**\n",
    " * looks for the element and removes it\n",
    " * if element occurs multiple times, removes first occurrence\n",
    " * if element not in list, gives an error"
   ]
  },
  {
   "cell_type": "code",
   "execution_count": 77,
   "metadata": {
    "colab": {
     "base_uri": "https://localhost:8080/",
     "height": 35
    },
    "colab_type": "code",
    "id": "GuYkuisxTJvn",
    "outputId": "02bca8c1-fdd6-452b-fc35-61fff97bed61"
   },
   "outputs": [
    {
     "data": {
      "text/plain": [
       "['a', 99, 'c', True, 'banana', 'watermelon']"
      ]
     },
     "execution_count": 77,
     "metadata": {
      "tags": []
     },
     "output_type": "execute_result"
    }
   ],
   "source": [
    "my_list"
   ]
  },
  {
   "cell_type": "code",
   "execution_count": 0,
   "metadata": {
    "colab": {},
    "colab_type": "code",
    "id": "idDENkpPTmYi"
   },
   "outputs": [],
   "source": [
    "del(my_list[0])"
   ]
  },
  {
   "cell_type": "code",
   "execution_count": 79,
   "metadata": {
    "colab": {
     "base_uri": "https://localhost:8080/",
     "height": 35
    },
    "colab_type": "code",
    "id": "0jcjFW7sTvmo",
    "outputId": "c5b62218-39ce-4a96-a266-10b94cbe96c0"
   },
   "outputs": [
    {
     "data": {
      "text/plain": [
       "[99, 'c', True, 'banana', 'watermelon']"
      ]
     },
     "execution_count": 79,
     "metadata": {
      "tags": []
     },
     "output_type": "execute_result"
    }
   ],
   "source": [
    "my_list"
   ]
  },
  {
   "cell_type": "code",
   "execution_count": 80,
   "metadata": {
    "colab": {
     "base_uri": "https://localhost:8080/",
     "height": 35
    },
    "colab_type": "code",
    "id": "Zpun9MKsTxrO",
    "outputId": "bc8e833a-89a6-4839-848e-7bcc0f6515f4"
   },
   "outputs": [
    {
     "data": {
      "text/plain": [
       "'watermelon'"
      ]
     },
     "execution_count": 80,
     "metadata": {
      "tags": []
     },
     "output_type": "execute_result"
    }
   ],
   "source": [
    "my_list.pop()"
   ]
  },
  {
   "cell_type": "code",
   "execution_count": 0,
   "metadata": {
    "colab": {},
    "colab_type": "code",
    "id": "U4s84Gg4T4jL"
   },
   "outputs": [],
   "source": [
    "my_list.remove('banana')"
   ]
  },
  {
   "cell_type": "code",
   "execution_count": 82,
   "metadata": {
    "colab": {
     "base_uri": "https://localhost:8080/",
     "height": 35
    },
    "colab_type": "code",
    "id": "cQdm4cQMT--u",
    "outputId": "272ec1b7-6072-441b-cf87-34d010f35e6c"
   },
   "outputs": [
    {
     "data": {
      "text/plain": [
       "[99, 'c', True]"
      ]
     },
     "execution_count": 82,
     "metadata": {
      "tags": []
     },
     "output_type": "execute_result"
    }
   ],
   "source": [
    "my_list"
   ]
  },
  {
   "cell_type": "markdown",
   "metadata": {
    "colab_type": "text",
    "id": "Rel27VZJUOSU"
   },
   "source": [
    "### Sorting\n",
    "\n",
    "We can use the **sorted** function to sort a list"
   ]
  },
  {
   "cell_type": "code",
   "execution_count": 0,
   "metadata": {
    "colab": {},
    "colab_type": "code",
    "id": "VeG2RjKyUyPk"
   },
   "outputs": [],
   "source": [
    "num_list = [5, 8, 3, 2, 9, 8]"
   ]
  },
  {
   "cell_type": "code",
   "execution_count": 84,
   "metadata": {
    "colab": {
     "base_uri": "https://localhost:8080/",
     "height": 35
    },
    "colab_type": "code",
    "id": "J64F-dBgU9Iz",
    "outputId": "9739c81e-8d41-4b57-e9f6-5f15735426e0"
   },
   "outputs": [
    {
     "data": {
      "text/plain": [
       "[2, 3, 5, 8, 8, 9]"
      ]
     },
     "execution_count": 84,
     "metadata": {
      "tags": []
     },
     "output_type": "execute_result"
    }
   ],
   "source": [
    "sorted(num_list)"
   ]
  },
  {
   "cell_type": "markdown",
   "metadata": {
    "colab_type": "text",
    "id": "dCTlA44kneua"
   },
   "source": [
    "# Exercise\n",
    "\n",
    "- Get the length of the tweets list\n",
    "- Select the second tweet and do the following:\n",
    "    - lowercase the string and save it to new variable `tweet2`\n",
    "    - check if the word 'dangerous' is in the tweet\n",
    "    - get the last word (hint: use '.split')\n",
    "    - get the last 3 words"
   ]
  },
  {
   "cell_type": "code",
   "execution_count": 0,
   "metadata": {
    "colab": {},
    "colab_type": "code",
    "id": "VFjjeWxynKjT"
   },
   "outputs": [],
   "source": [
    "tweets = [\n",
    "    \"I had to fire General Flynn because he lied to the Vice President and the FBI. He has pled guilty to those lies. It is a shame because his actions during the transition were lawful. There was nothing to hide!\",\n",
    "    \"That's right, we need a TRAVEL BAN for certain DANGEROUS countries, not some politically correct term that won't help us protect our people!\",\n",
    "    \"Does anybody really want to throw out good, educated and accomplished young people who have jobs, some serving in the military? Really!.....\"\n",
    "]"
   ]
  },
  {
   "cell_type": "code",
   "execution_count": 2,
   "metadata": {
    "colab": {
     "base_uri": "https://localhost:8080/",
     "height": 55
    },
    "colab_type": "code",
    "id": "5ta1KUvQodSo",
    "outputId": "63867422-c1b5-430e-ee55-a5dd12ebe6fc"
   },
   "outputs": [
    {
     "data": {
      "text/plain": [
       "'I had to fire General Flynn because he lied to the Vice President and the FBI. He has pled guilty to those lies. It is a shame because his actions during the transition were lawful. There was nothing to hide!'"
      ]
     },
     "execution_count": 2,
     "metadata": {
      "tags": []
     },
     "output_type": "execute_result"
    }
   ],
   "source": [
    "tweets[0]"
   ]
  },
  {
   "cell_type": "markdown",
   "metadata": {
    "colab_type": "text",
    "id": "amENSVMbVqrD"
   },
   "source": [
    "# Dictionaries (Maps)\n",
    "\n",
    "It is best to think of a dictionary as an **unordered** set of key: value pairs, with the requirement that the keys are **unique** (within one dictionary). They can be created using curly braces with key, value pairs separated by a colon.\n",
    "\n",
    "For more information about dictionaries: https://docs.python.org/3/tutorial/datastructures.html#dictionaries\n"
   ]
  },
  {
   "cell_type": "markdown",
   "metadata": {
    "colab_type": "text",
    "id": "7oie3glNXnVx"
   },
   "source": [
    "## List vs Dictionary\n",
    "\n",
    "#### Lists:\n",
    "* Ordered sequence of elements\n",
    "* looked up elements by integer index\n",
    "* indices have an order\n",
    "* index is integer\n",
    "\n",
    "#### Dictionaries:\n",
    "* matches \"key\" to \"value\"\n",
    "* no order is guaranteed\n",
    "* keys can be any immutable type"
   ]
  },
  {
   "cell_type": "code",
   "execution_count": 89,
   "metadata": {
    "colab": {
     "base_uri": "https://localhost:8080/",
     "height": 35
    },
    "colab_type": "code",
    "id": "iCrmVo1aW1ss",
    "outputId": "06fd0297-ea3f-490c-b424-aded6bc1e4ab"
   },
   "outputs": [
    {
     "data": {
      "text/plain": [
       "{'bread': 3.0, 'eggs': 5.5, 'milk': 3.99}"
      ]
     },
     "execution_count": 89,
     "metadata": {
      "tags": []
     },
     "output_type": "execute_result"
    }
   ],
   "source": [
    "groceries = {'milk': 3.99, 'eggs': 5.50, 'bread': 3.00}\n",
    "\n",
    "groceries"
   ]
  },
  {
   "cell_type": "markdown",
   "metadata": {
    "colab_type": "text",
    "id": "CYS1fyWKYupK"
   },
   "source": [
    "### Selecting an item"
   ]
  },
  {
   "cell_type": "code",
   "execution_count": 90,
   "metadata": {
    "colab": {
     "base_uri": "https://localhost:8080/",
     "height": 35
    },
    "colab_type": "code",
    "id": "9FxsOxpAYqiH",
    "outputId": "2162ef10-7986-4125-8fae-e61b7ca594ee"
   },
   "outputs": [
    {
     "data": {
      "text/plain": [
       "3.99"
      ]
     },
     "execution_count": 90,
     "metadata": {
      "tags": []
     },
     "output_type": "execute_result"
    }
   ],
   "source": [
    "groceries['milk']"
   ]
  },
  {
   "cell_type": "markdown",
   "metadata": {
    "colab_type": "text",
    "id": "c-Xio1S3ZBKB"
   },
   "source": [
    "### Adding an item"
   ]
  },
  {
   "cell_type": "code",
   "execution_count": 0,
   "metadata": {
    "colab": {},
    "colab_type": "code",
    "id": "Vr2eRzS0ZD3J"
   },
   "outputs": [],
   "source": [
    "groceries['apples'] = 4.00"
   ]
  },
  {
   "cell_type": "code",
   "execution_count": 92,
   "metadata": {
    "colab": {
     "base_uri": "https://localhost:8080/",
     "height": 35
    },
    "colab_type": "code",
    "id": "zl9zRPrKZT2W",
    "outputId": "2fd452f0-f688-41b5-f619-bbfefdd59043"
   },
   "outputs": [
    {
     "data": {
      "text/plain": [
       "{'apples': 4.0, 'bread': 3.0, 'eggs': 5.5, 'milk': 3.99}"
      ]
     },
     "execution_count": 92,
     "metadata": {
      "tags": []
     },
     "output_type": "execute_result"
    }
   ],
   "source": [
    "groceries"
   ]
  },
  {
   "cell_type": "markdown",
   "metadata": {
    "colab_type": "text",
    "id": "T9y_BL1aZeC-"
   },
   "source": [
    "### Removing an item"
   ]
  },
  {
   "cell_type": "code",
   "execution_count": 0,
   "metadata": {
    "colab": {},
    "colab_type": "code",
    "id": "LiNV6uDwZcs6"
   },
   "outputs": [],
   "source": [
    "del(groceries['eggs'])"
   ]
  },
  {
   "cell_type": "code",
   "execution_count": 94,
   "metadata": {
    "colab": {
     "base_uri": "https://localhost:8080/",
     "height": 35
    },
    "colab_type": "code",
    "id": "xnW1rVIBZmmu",
    "outputId": "37468d4b-6eac-455a-d154-0e998937276c"
   },
   "outputs": [
    {
     "data": {
      "text/plain": [
       "{'apples': 4.0, 'bread': 3.0, 'milk': 3.99}"
      ]
     },
     "execution_count": 94,
     "metadata": {
      "tags": []
     },
     "output_type": "execute_result"
    }
   ],
   "source": [
    "groceries"
   ]
  },
  {
   "cell_type": "markdown",
   "metadata": {
    "colab_type": "text",
    "id": "eop6sn6ca_Am"
   },
   "source": [
    "# If/Else Statements\n",
    "\n",
    "Decision making is required when we want to execute a code only if a certain condition is satisfied. \n",
    "\n",
    "\n",
    "More info: https://docs.python.org/3/tutorial/controlflow.html"
   ]
  },
  {
   "cell_type": "code",
   "execution_count": 96,
   "metadata": {
    "colab": {
     "base_uri": "https://localhost:8080/",
     "height": 35
    },
    "colab_type": "code",
    "id": "FmDfR3M3bYQq",
    "outputId": "d74954cf-cd55-4167-edf8-fe8e8815078f"
   },
   "outputs": [
    {
     "name": "stdout",
     "output_type": "stream",
     "text": [
      "x is equal to y\n"
     ]
    }
   ],
   "source": [
    "x = 5\n",
    "y = 10\n",
    "\n",
    "if x > y:\n",
    "    print('x is bigger than y')\n",
    "elif y < y:\n",
    "    print('y is bigger than x')\n",
    "else:\n",
    "    print('x is equal to y')"
   ]
  },
  {
   "cell_type": "markdown",
   "metadata": {
    "colab_type": "text",
    "id": "0FLIdWAfcjlI"
   },
   "source": [
    "# For loop\n",
    "\n",
    "The for loop in Python is used to iterate over a sequence (list, tuple, string) or other iterable objects.\n",
    "\n",
    "More info: https://docs.python.org/3/tutorial/controlflow.html#for-statements"
   ]
  },
  {
   "cell_type": "code",
   "execution_count": 97,
   "metadata": {
    "colab": {
     "base_uri": "https://localhost:8080/",
     "height": 104
    },
    "colab_type": "code",
    "id": "UADtTfifdEWG",
    "outputId": "024f7cd6-414f-4405-b603-249690e21b6f"
   },
   "outputs": [
    {
     "name": "stdout",
     "output_type": "stream",
     "text": [
      "2\n",
      "4\n",
      "6\n",
      "8\n",
      "10\n"
     ]
    }
   ],
   "source": [
    "for x in [1, 2, 3, 4, 5]:\n",
    "    print(x * 2)"
   ]
  },
  {
   "cell_type": "markdown",
   "metadata": {
    "colab_type": "text",
    "id": "mqmfcl9bd74w"
   },
   "source": [
    "### Storing values with loops"
   ]
  },
  {
   "cell_type": "code",
   "execution_count": 99,
   "metadata": {
    "colab": {
     "base_uri": "https://localhost:8080/",
     "height": 35
    },
    "colab_type": "code",
    "id": "Y3-c22M0dqZQ",
    "outputId": "76c88ec6-1ac7-49c0-f578-2e4767e92072"
   },
   "outputs": [
    {
     "data": {
      "text/plain": [
       "[2, 4, 6, 8, 10]"
      ]
     },
     "execution_count": 99,
     "metadata": {
      "tags": []
     },
     "output_type": "execute_result"
    }
   ],
   "source": [
    "data = []\n",
    "for x in [1, 2, 3, 4, 5]:\n",
    "    data.append(x * 2)\n",
    "    \n",
    "data"
   ]
  },
  {
   "cell_type": "markdown",
   "metadata": {
    "colab_type": "text",
    "id": "523577T3ehmJ"
   },
   "source": [
    "### Summing numbers\n"
   ]
  },
  {
   "cell_type": "code",
   "execution_count": 101,
   "metadata": {
    "colab": {
     "base_uri": "https://localhost:8080/",
     "height": 35
    },
    "colab_type": "code",
    "id": "x_juS8gEeAvz",
    "outputId": "880fdb48-cec6-4192-d60f-02520feb5a7f"
   },
   "outputs": [
    {
     "data": {
      "text/plain": [
       "15"
      ]
     },
     "execution_count": 101,
     "metadata": {
      "tags": []
     },
     "output_type": "execute_result"
    }
   ],
   "source": [
    "summed = 0\n",
    "for x in [1, 2, 3, 4, 5]:\n",
    "    summed = summed + x\n",
    "\n",
    "summed"
   ]
  },
  {
   "cell_type": "markdown",
   "metadata": {
    "colab_type": "text",
    "id": "rHKM57CDfI3n"
   },
   "source": [
    "### Filtering"
   ]
  },
  {
   "cell_type": "code",
   "execution_count": 103,
   "metadata": {
    "colab": {
     "base_uri": "https://localhost:8080/",
     "height": 35
    },
    "colab_type": "code",
    "id": "oN0-THKOfESp",
    "outputId": "aef0f120-1c80-4f1c-de2f-cf1c4462f5fb"
   },
   "outputs": [
    {
     "data": {
      "text/plain": [
       "[3, 4, 5]"
      ]
     },
     "execution_count": 103,
     "metadata": {
      "tags": []
     },
     "output_type": "execute_result"
    }
   ],
   "source": [
    "filtered = []\n",
    "for x in [1, 2, 3, 4, 5]:\n",
    "    if x >= 3:\n",
    "        filtered.append(x)\n",
    "\n",
    "filtered\n",
    "    \n",
    "    "
   ]
  },
  {
   "cell_type": "markdown",
   "metadata": {
    "colab_type": "text",
    "id": "18A-Dfy9fwZJ"
   },
   "source": [
    "# Functions\n",
    "\n",
    "* write reusable pieces/chunks of code, called functions \n",
    "* functions are not run in a program until they are “called” or “invoked” in a program "
   ]
  },
  {
   "cell_type": "code",
   "execution_count": 105,
   "metadata": {
    "colab": {
     "base_uri": "https://localhost:8080/",
     "height": 35
    },
    "colab_type": "code",
    "id": "Z4EBogvlf66C",
    "outputId": "cd17cede-1def-469c-92a8-6e00e6bbe1df"
   },
   "outputs": [
    {
     "data": {
      "text/plain": [
       "15"
      ]
     },
     "execution_count": 105,
     "metadata": {
      "tags": []
     },
     "output_type": "execute_result"
    }
   ],
   "source": [
    "def add(a, b):\n",
    "    return a + b\n",
    "\n",
    "add(5, 10)"
   ]
  },
  {
   "cell_type": "markdown",
   "metadata": {
    "colab_type": "text",
    "id": "vnsumoWVqOoP"
   },
   "source": [
    "# Exercise\n",
    "\n",
    "- Get the average length of all tweets\n",
    "- Create a function called `count_tweets` that takes in a list of tweets and returns the average length of all tweets\n",
    "- Test your function using `more_tweets` as the input"
   ]
  },
  {
   "cell_type": "code",
   "execution_count": 0,
   "metadata": {
    "colab": {},
    "colab_type": "code",
    "id": "rB-Ef8BTqLuP"
   },
   "outputs": [],
   "source": [
    "tweets = [\n",
    "    \"I had to fire General Flynn because he lied to the Vice President and the FBI. He has pled guilty to those lies. It is a shame because his actions during the transition were lawful. There was nothing to hide!\",\n",
    "    \"That's right, we need a TRAVEL BAN for certain DANGEROUS countries, not some politically correct term that won't help us protect our people!\",\n",
    "    \"Does anybody really want to throw out good, educated and accomplished young people who have jobs, some serving in the military? Really!.....\"\n",
    "]"
   ]
  },
  {
   "cell_type": "code",
   "execution_count": 0,
   "metadata": {
    "colab": {},
    "colab_type": "code",
    "id": "5fslL3UvsDZ7"
   },
   "outputs": [],
   "source": [
    "more_tweets = [\n",
    "    \"Marshawn Lynch of the NFL’s Oakland Raiders stands for the Mexican Anthem and sits down to boos for our National Anthem. Great disrespect! Next time NFL should suspend him for remainder of season. Attendance and ratings way down.\",\n",
    "    \"How low has President Obama gone to tapp my phones during the very sacred election process. This is Nixon/Watergate. Bad (or sick) guy!\",\n",
    "    \"If a new HealthCare Bill is not approved quickly, BAILOUTS for Insurance Companies and BAILOUTS for Members of Congress will end very soon!\",\n",
    "    \"If ObamaCare is hurting people, & it is, why shouldn't it hurt the insurance companies & why should Congress not be paying what public pays?\"\n",
    "]"
   ]
  },
  {
   "cell_type": "code",
   "execution_count": 7,
   "metadata": {
    "colab": {
     "base_uri": "https://localhost:8080/",
     "height": 35
    },
    "colab_type": "code",
    "id": "zav-5mpyqa2v",
    "outputId": "674de55f-ee01-4710-92d7-be7e5e8e662a"
   },
   "outputs": [
    {
     "data": {
      "text/plain": [
       "162.66666666666666"
      ]
     },
     "execution_count": 7,
     "metadata": {
      "tags": []
     },
     "output_type": "execute_result"
    }
   ],
   "source": [
    "tweet_counts = []\n",
    "for tweet in tweets:\n",
    "    tweet_counts.append(len(tweet))\n",
    "    \n",
    "sum(tweet_counts) / len(tweet_counts)"
   ]
  },
  {
   "cell_type": "code",
   "execution_count": 10,
   "metadata": {
    "colab": {
     "base_uri": "https://localhost:8080/",
     "height": 35
    },
    "colab_type": "code",
    "id": "FIEFJqtaq7Bq",
    "outputId": "8e210cf3-0649-4320-9725-572e3201a719"
   },
   "outputs": [
    {
     "data": {
      "text/plain": [
       "162.66666666666666"
      ]
     },
     "execution_count": 10,
     "metadata": {
      "tags": []
     },
     "output_type": "execute_result"
    }
   ],
   "source": [
    "def count_tweets(tweets_list):\n",
    "    tweet_counts = []\n",
    "    for tweet in tweets_list:\n",
    "        tweet_counts.append(len(tweet))\n",
    "\n",
    "    return sum(tweet_counts) / len(tweet_counts)\n",
    "\n",
    "count_tweets(tweets)"
   ]
  }
 ],
 "metadata": {
  "colab": {
   "name": "python-intro-solutions.ipynb",
   "provenance": [],
   "version": "0.3.2"
  },
  "kernelspec": {
   "display_name": "Python 3",
   "language": "python",
   "name": "python3"
  },
  "language_info": {
   "codemirror_mode": {
    "name": "ipython",
    "version": 3
   },
   "file_extension": ".py",
   "mimetype": "text/x-python",
   "name": "python",
   "nbconvert_exporter": "python",
   "pygments_lexer": "ipython3",
   "version": "3.7.2"
  }
 },
 "nbformat": 4,
 "nbformat_minor": 1
}
