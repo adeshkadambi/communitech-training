{
 "cells": [
  {
   "cell_type": "markdown",
   "metadata": {
    "colab_type": "text",
    "id": "0F8NJbT6dWcX"
   },
   "source": [
    "<center>\n",
    "    <img src=\"https://img.evbuc.com/https%3A%2F%2Fcdn.evbuc.com%2Fimages%2F53691183%2F257316737287%2F1%2Foriginal.jpg?w=800&auto=compress&rect=0%2C0%2C2160%2C1080&s=74711a2a8c51eb0f3bd59e5d482fdc07\" width=\"50%\">\n",
    "</center>\n",
    "\n",
    "----------\n",
    "\n",
    "<h1 align=\"center\"> Introduction to Python </h1>\n",
    "<br>\n",
    "<center align=\"left\"> <font size='4'>  Developed by: </font> <img src=\"https://s3.amazonaws.com/weclouddata/images/logos/wcd_logo.png\" width=\"20%\">\n",
    "</center>\n",
    "<br>\n",
    "<center align=\"left\"> <font size='4' color='#FF5713'> Accelerating your data science career! </font></center>\n",
    "<br>\n",
    "\n",
    "---------"
   ]
  },
  {
   "cell_type": "markdown",
   "metadata": {
    "colab_type": "text",
    "id": "B58QyYjafXtU"
   },
   "source": [
    "# Python Basics"
   ]
  },
  {
   "cell_type": "markdown",
   "metadata": {
    "colab_type": "text",
    "id": "hEYpjKHkgMG2"
   },
   "source": [
    "## Printing\n",
    "\n",
    "To show the output of some code in Python, we can use the print function\n"
   ]
  },
  {
   "cell_type": "markdown",
   "metadata": {
    "colab_type": "text",
    "id": "OUSdpk5milDP"
   },
   "source": [
    "Jupyter notebooks/Google colab will automatically print the last line a cell"
   ]
  },
  {
   "cell_type": "markdown",
   "metadata": {
    "colab_type": "text",
    "id": "whGoks5hk0dl"
   },
   "source": [
    "## Quotations in Python\n",
    "\n",
    "Python uses single ('), double (\") and triple (''' or \"\"\") quotes to denote strings, as long as the same type of quote starts and ends the string. "
   ]
  },
  {
   "cell_type": "markdown",
   "metadata": {
    "colab_type": "text",
    "id": "F8V-I2-BoA0h"
   },
   "source": [
    "## Comments\n",
    "\n",
    "The hash character (#) can be used for commenting. Anything written after it will be ignored by Python"
   ]
  },
  {
   "cell_type": "markdown",
   "metadata": {
    "colab_type": "text",
    "id": "6pATr1vCo6tc"
   },
   "source": [
    "## Arithmetic operators\n",
    "\n",
    "Python has many built in mathematical operators. Some of these include:\n",
    "\n",
    "| Operators|   Meaning|\n",
    "| ---------|:--------:|\n",
    "|         +|       Sum|\n",
    "|         -|Difference|\n",
    "|        \\*|   Product|\n",
    "|         /|  Division|\n",
    "|         %|  Reminder|\n",
    "|      \\*\\*|     Power|\n",
    "|//|Floor Divison|"
   ]
  },
  {
   "cell_type": "markdown",
   "metadata": {
    "colab_type": "text",
    "id": "agbL-0ICpe1F"
   },
   "source": [
    "## Comparison operators\n",
    "\n",
    "Comparison operators are used to compare values. It either returns Booleans (True or False) according to the condition.\n",
    "\n",
    "| Operators|   Meaning|\n",
    "| ---------|:--------:|\n",
    "|         >|       Greater that|\n",
    "|         <|Less that|\n",
    "|        ==|   Equal to|\n",
    "|        !=|  Not equal to|\n",
    "|        >=|  Greater than or equal to|\n",
    "|        <=|  Less than or equal to|"
   ]
  },
  {
   "cell_type": "markdown",
   "metadata": {
    "colab_type": "text",
    "id": "xttM-Np5rWAu"
   },
   "source": [
    "## Logical operators\n",
    "\n",
    "Logical operators are the **and, or, not ** operators.\n",
    "\n",
    "| A|   B| A and B| A or B|\n",
    "|-----|:----:|-----|:----:|\n",
    "|True|True|True|True|\n",
    "|False|False|False|False|\n",
    "|True|False|False|True|\n",
    "|False|True|False|True|"
   ]
  },
  {
   "cell_type": "markdown",
   "metadata": {
    "colab_type": "text",
    "id": "uDd3FSLEsj4G"
   },
   "source": [
    "## Variables\n",
    "\n",
    "Variables store a value, that can be looked at or changed at a later time."
   ]
  },
  {
   "cell_type": "markdown",
   "metadata": {
    "colab_type": "text",
    "id": "iJDbugj18QAB"
   },
   "source": [
    "## Exercise\n",
    "\n",
    "Write a program that does the following in order:\n",
    "\n",
    "1. Asks the user to enter a number 'x'\n",
    "2. Asks the user to enter a number 'y'\n",
    "3. Prints the result of  'x' plus 'y'. \n",
    "4. Prints the result of 'x' to the power of 'y'\n",
    "5. Prints if 'x' is greater than or equal to 'y' "
   ]
  },
  {
   "cell_type": "code",
   "execution_count": 0,
   "metadata": {
    "colab": {
     "base_uri": "https://localhost:8080/",
     "height": 104
    },
    "colab_type": "code",
    "id": "mc7qsYcs7Dtf",
    "outputId": "9c5df0ab-3c32-40a8-f5b5-34b5958c1a3d"
   },
   "outputs": [
    {
     "name": "stdout",
     "output_type": "stream",
     "text": [
      "Pick a number: 5\n",
      "Pick another number: 10\n",
      "x + y is: 15\n",
      "x**y is: 9765625\n",
      "x > y is: False\n"
     ]
    }
   ],
   "source": [
    "x = int(input('Pick a number: '))\n",
    "y = int(input('Pick another number: '))\n",
    "\n",
    "######### Your code below #########\n",
    "\n"
   ]
  },
  {
   "cell_type": "markdown",
   "metadata": {
    "colab_type": "text",
    "id": "IVBntCN--R6D"
   },
   "source": [
    "# Strings\n",
    "\n",
    "Strings in Python are sequence of characters represented in the quotation marks.\n",
    "\n"
   ]
  },
  {
   "cell_type": "markdown",
   "metadata": {
    "colab_type": "text",
    "id": "fiIizgqtFzK6"
   },
   "source": [
    "## String indexing\n",
    "\n",
    "We can use the square bracket notation to get the character at a certain position or index."
   ]
  },
  {
   "cell_type": "markdown",
   "metadata": {
    "colab_type": "text",
    "id": "7mypXsuwIv5I"
   },
   "source": [
    "Python is zero-indexed."
   ]
  },
  {
   "cell_type": "markdown",
   "metadata": {
    "colab_type": "text",
    "id": "v5ia1qeSGx6a"
   },
   "source": [
    "We can use negative integers to index in reverse.\n",
    "\n"
   ]
  },
  {
   "cell_type": "markdown",
   "metadata": {
    "colab_type": "text",
    "id": "YXIltq_rHrKt"
   },
   "source": [
    "## Slicing\n",
    "\n",
    "We can also add more parameters in the square brackets to select ranges of characters.\n",
    "> [start:stop:step]"
   ]
  },
  {
   "cell_type": "markdown",
   "metadata": {
    "colab_type": "text",
    "id": "s8hR_lxhIzNy"
   },
   "source": [
    "Notice the first number is inclusive and the second number is exclusive."
   ]
  },
  {
   "cell_type": "markdown",
   "metadata": {
    "colab_type": "text",
    "id": "QJXTWFHkJWJ-"
   },
   "source": [
    "If we set the step size to 2, it will slice every other character."
   ]
  },
  {
   "cell_type": "markdown",
   "metadata": {
    "colab_type": "text",
    "id": "qpV3HQnuKRBz"
   },
   "source": [
    "## String methods\n",
    "\n",
    "Python has several built-in methods for manipulating strings. Some examples include:\n",
    "\n",
    "- str.lower()\n",
    "- str.upper()\n",
    "- str.capitalize()\n",
    "- str.strip()\n",
    "- str.startwith()\n",
    "- str.endswith()\n",
    "- str.replace()\n",
    "- str.split()\n",
    "- str.join()\n",
    "\n",
    "For more information, visit: https://docs.python.org/3.6/library/string.html"
   ]
  },
  {
   "cell_type": "markdown",
   "metadata": {
    "colab_type": "text",
    "id": "TRZZpDrXQEvB"
   },
   "source": [
    "**what is the dot?**\n",
    "- strings are Python objects, \n",
    "- everything in Python is an object\n",
    "- objects have methods and functions\n",
    "- methods have the notiation object_name.do_something()\n",
    "- functions have the notation do_something(input)"
   ]
  },
  {
   "cell_type": "markdown",
   "metadata": {
    "colab_type": "text",
    "id": "GBoq67AEJ4ft"
   },
   "source": [
    "# Lists\n",
    "\n",
    "* a type of Python data structure\n",
    "* **ordered sequence** of information, accessible by **index**\n",
    "* a list is denoted by **square brackets, []**\n",
    "* a list contains elements that can be of mixed types\n",
    "* list elements can be changed so a list is **mutable**"
   ]
  },
  {
   "cell_type": "markdown",
   "metadata": {
    "colab_type": "text",
    "id": "SY7WQSwVO0je"
   },
   "source": [
    "## Indexing/Slicing\n",
    "\n",
    "Similar to strings, we can use the square bracket notation to select elements from a list"
   ]
  },
  {
   "cell_type": "markdown",
   "metadata": {
    "colab_type": "text",
    "id": "KsFEnAXnPe_1"
   },
   "source": [
    "## Operations on lists\n",
    "\n"
   ]
  },
  {
   "cell_type": "markdown",
   "metadata": {
    "colab_type": "text",
    "id": "eY3SRzSlRHcU"
   },
   "source": [
    "### Concatenate\n",
    "\n",
    "We can concatenate two lists by using the add operator."
   ]
  },
  {
   "cell_type": "markdown",
   "metadata": {
    "colab_type": "text",
    "id": "XLEx11f4R4A5"
   },
   "source": [
    "### Append\n",
    "Similarly, we can add an element to the end of a list using the **append** method"
   ]
  },
  {
   "cell_type": "markdown",
   "metadata": {
    "colab_type": "text",
    "id": "j4ycbSIkTFKe"
   },
   "source": [
    "###  Remove\n",
    "\n",
    "1. delete element at a specific index with **del(L[index])**\n",
    "2. remove element at **end** of list with **L.pop()**, returns the **removed element**\n",
    "3. remove a specific element with **L.remove(element)**\n",
    " * looks for the element and removes it\n",
    " * if element occurs multiple times, removes first occurrence\n",
    " * if element not in list, gives an error"
   ]
  },
  {
   "cell_type": "markdown",
   "metadata": {
    "colab_type": "text",
    "id": "Rel27VZJUOSU"
   },
   "source": [
    "### Sorting\n",
    "\n",
    "We can use the **sorted** function to sort a list"
   ]
  },
  {
   "cell_type": "markdown",
   "metadata": {
    "colab_type": "text",
    "id": "dCTlA44kneua"
   },
   "source": [
    "# Exercise\n",
    "\n",
    "- Get the length of the tweets list\n",
    "- Select the second tweet and do the following:\n",
    "    - lowercase the string and save it to new variable `tweet2`\n",
    "    - check if the word 'dangerous' is in the tweet\n",
    "    - get the last word (hint: use '.split')\n",
    "    - get the last 3 words"
   ]
  },
  {
   "cell_type": "code",
   "execution_count": 0,
   "metadata": {
    "colab": {},
    "colab_type": "code",
    "id": "VFjjeWxynKjT"
   },
   "outputs": [],
   "source": [
    "tweets = [\n",
    "    \"I had to fire General Flynn because he lied to the Vice President and the FBI. He has pled guilty to those lies. It is a shame because his actions during the transition were lawful. There was nothing to hide!\",\n",
    "    \"That's right, we need a TRAVEL BAN for certain DANGEROUS countries, not some politically correct term that won't help us protect our people!\",\n",
    "    \"Does anybody really want to throw out good, educated and accomplished young people who have jobs, some serving in the military? Really!.....\"\n",
    "]"
   ]
  },
  {
   "cell_type": "code",
   "execution_count": 0,
   "metadata": {
    "colab": {},
    "colab_type": "code",
    "id": "ixMOjyymu2-e"
   },
   "outputs": [],
   "source": []
  },
  {
   "cell_type": "markdown",
   "metadata": {
    "colab_type": "text",
    "id": "amENSVMbVqrD"
   },
   "source": [
    "# Dictionaries (Maps)\n",
    "\n",
    "It is best to think of a dictionary as an **unordered** set of key: value pairs, with the requirement that the keys are **unique** (within one dictionary). They can be created using curly braces with key, value pairs separated by a colon.\n",
    "\n",
    "For more information about dictionaries: https://docs.python.org/3/tutorial/datastructures.html#dictionaries\n"
   ]
  },
  {
   "cell_type": "markdown",
   "metadata": {
    "colab_type": "text",
    "id": "7oie3glNXnVx"
   },
   "source": [
    "## List vs Dictionary\n",
    "\n",
    "#### Lists:\n",
    "* Ordered sequence of elements\n",
    "* looked up elements by integer index\n",
    "* indices have an order\n",
    "* index is integer\n",
    "\n",
    "#### Dictionaries:\n",
    "* matches \"key\" to \"value\"\n",
    "* no order is guaranteed\n",
    "* keys can be any immutable type"
   ]
  },
  {
   "cell_type": "markdown",
   "metadata": {
    "colab_type": "text",
    "id": "CYS1fyWKYupK"
   },
   "source": [
    "### Selecting an item"
   ]
  },
  {
   "cell_type": "markdown",
   "metadata": {
    "colab_type": "text",
    "id": "c-Xio1S3ZBKB"
   },
   "source": [
    "### Adding an item"
   ]
  },
  {
   "cell_type": "markdown",
   "metadata": {
    "colab_type": "text",
    "id": "T9y_BL1aZeC-"
   },
   "source": [
    "### Removing an item"
   ]
  },
  {
   "cell_type": "markdown",
   "metadata": {
    "colab_type": "text",
    "id": "eop6sn6ca_Am"
   },
   "source": [
    "# If/Else Statements\n",
    "\n",
    "Decision making is required when we want to execute a code only if a certain condition is satisfied. \n",
    "\n",
    "\n",
    "More info: https://docs.python.org/3/tutorial/controlflow.html"
   ]
  },
  {
   "cell_type": "markdown",
   "metadata": {
    "colab_type": "text",
    "id": "0FLIdWAfcjlI"
   },
   "source": [
    "# For loop\n",
    "\n",
    "The for loop in Python is used to iterate over a sequence (list, tuple, string) or other iterable objects.\n",
    "\n",
    "More info: https://docs.python.org/3/tutorial/controlflow.html#for-statements"
   ]
  },
  {
   "cell_type": "markdown",
   "metadata": {
    "colab_type": "text",
    "id": "mqmfcl9bd74w"
   },
   "source": [
    "### Storing values with loops"
   ]
  },
  {
   "cell_type": "markdown",
   "metadata": {
    "colab_type": "text",
    "id": "523577T3ehmJ"
   },
   "source": [
    "### Summing numbers\n"
   ]
  },
  {
   "cell_type": "markdown",
   "metadata": {
    "colab_type": "text",
    "id": "rHKM57CDfI3n"
   },
   "source": [
    "### Filtering"
   ]
  },
  {
   "cell_type": "markdown",
   "metadata": {
    "colab_type": "text",
    "id": "18A-Dfy9fwZJ"
   },
   "source": [
    "# Functions\n",
    "\n",
    "* write reusable pieces/chunks of code, called functions \n",
    "* functions are not run in a program until they are “called” or “invoked” in a program "
   ]
  },
  {
   "cell_type": "markdown",
   "metadata": {
    "colab_type": "text",
    "id": "vnsumoWVqOoP"
   },
   "source": [
    "# Exercise\n",
    "\n",
    "- Get the average length of all tweets\n",
    "- Create a function called `count_tweets` that takes in a list of tweets and returns the average length of all tweets\n",
    "- Test your function using `more_tweets` as the input"
   ]
  },
  {
   "cell_type": "code",
   "execution_count": 0,
   "metadata": {
    "colab": {},
    "colab_type": "code",
    "id": "rB-Ef8BTqLuP"
   },
   "outputs": [],
   "source": [
    "tweets = [\n",
    "    \"I had to fire General Flynn because he lied to the Vice President and the FBI. He has pled guilty to those lies. It is a shame because his actions during the transition were lawful. There was nothing to hide!\",\n",
    "    \"That's right, we need a TRAVEL BAN for certain DANGEROUS countries, not some politically correct term that won't help us protect our people!\",\n",
    "    \"Does anybody really want to throw out good, educated and accomplished young people who have jobs, some serving in the military? Really!.....\"\n",
    "]"
   ]
  },
  {
   "cell_type": "code",
   "execution_count": 0,
   "metadata": {
    "colab": {},
    "colab_type": "code",
    "id": "5fslL3UvsDZ7"
   },
   "outputs": [],
   "source": [
    "more_tweets = [\n",
    "    \"Marshawn Lynch of the NFL’s Oakland Raiders stands for the Mexican Anthem and sits down to boos for our National Anthem. Great disrespect! Next time NFL should suspend him for remainder of season. Attendance and ratings way down.\",\n",
    "    \"How low has President Obama gone to tapp my phones during the very sacred election process. This is Nixon/Watergate. Bad (or sick) guy!\",\n",
    "    \"If a new HealthCare Bill is not approved quickly, BAILOUTS for Insurance Companies and BAILOUTS for Members of Congress will end very soon!\",\n",
    "    \"If ObamaCare is hurting people, & it is, why shouldn't it hurt the insurance companies & why should Congress not be paying what public pays?\"\n",
    "]"
   ]
  }
 ],
 "metadata": {
  "colab": {
   "name": "python-intro-demo.ipynb",
   "provenance": [],
   "version": "0.3.2"
  },
  "kernelspec": {
   "display_name": "Python 3",
   "language": "python",
   "name": "python3"
  },
  "language_info": {
   "codemirror_mode": {
    "name": "ipython",
    "version": 3
   },
   "file_extension": ".py",
   "mimetype": "text/x-python",
   "name": "python",
   "nbconvert_exporter": "python",
   "pygments_lexer": "ipython3",
   "version": "3.7.2"
  }
 },
 "nbformat": 4,
 "nbformat_minor": 1
}
